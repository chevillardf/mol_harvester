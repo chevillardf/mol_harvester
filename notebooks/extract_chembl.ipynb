{
 "cells": [
  {
   "cell_type": "code",
   "execution_count": 4,
   "metadata": {},
   "outputs": [],
   "source": [
    "import requests\n",
    "import pandas as pd\n",
    "import json\n",
    "import os\n",
    "from tqdm.notebook import tqdm"
   ]
  },
  {
   "cell_type": "code",
   "execution_count": 13,
   "metadata": {},
   "outputs": [],
   "source": [
    "os.makedirs(\"../data/raw/\", exist_ok=True)\n",
    "base_url = \"https://www.ebi.ac.uk\""
   ]
  },
  {
   "cell_type": "code",
   "execution_count": 6,
   "metadata": {},
   "outputs": [],
   "source": [
    "# Workflow: get logP +doc_id mols -> get docids from mols ids"
   ]
  },
  {
   "cell_type": "markdown",
   "metadata": {},
   "source": [
    "#### Get molecules w/ logP"
   ]
  },
  {
   "cell_type": "code",
   "execution_count": 33,
   "metadata": {},
   "outputs": [],
   "source": [
    "def fetch_molecules_with_logp_and_docs(limit=100, max_pages=None, verbose=True):\n",
    "    url = f\"{base_url}/chembl/api/data/molecule.json?logp__isnull=false&molecule_documents__isnull=false&limit={limit}\"\n",
    "    molecules = []\n",
    "    page = 0\n",
    "    \n",
    "    while url and (max_pages is None or page < max_pages):\n",
    "        if verbose:\n",
    "            print(f\"Fetching page {page + 1}...\")\n",
    "        res = requests.get(url)\n",
    "        res.raise_for_status()\n",
    "        data = res.json()\n",
    "        molecules.extend(data['molecules'])\n",
    "\n",
    "        next_url = data['page_meta']['next']\n",
    "        url = f\"{base_url}{next_url}\" if next_url else None\n",
    "        page += 1\n",
    "\n",
    "    return molecules\n",
    "\n",
    "def fetch_molecules_with_logp_and_patents(limit=100, max_pages=None, verbose=True):\n",
    "    base_url = \"https://www.ebi.ac.uk\"\n",
    "    url = f\"{base_url}/chembl/api/data/molecule.json?logp__isnull=false&molecule_patents__isnull=false&limit={limit}\"\n",
    "    molecules = []\n",
    "    page = 0\n",
    "\n",
    "    while url and (max_pages is None or page < max_pages):\n",
    "        if verbose:\n",
    "            print(f\"Fetching page {page + 1}...\")\n",
    "        res = requests.get(url)\n",
    "        res.raise_for_status()\n",
    "        data = res.json()\n",
    "        molecules.extend(data['molecules'])\n",
    "\n",
    "        next_url = data['page_meta'].get('next')\n",
    "        url = f\"{base_url}{next_url}\" if next_url else None\n",
    "        page += 1\n",
    "\n",
    "    return molecules"
   ]
  },
  {
   "cell_type": "code",
   "execution_count": 42,
   "metadata": {},
   "outputs": [],
   "source": [
    "def fetch_molecules_with_logp_smiles_and_patents(limit=100, max_pages=None, verbose=True):\n",
    "    base_url = \"https://www.ebi.ac.uk\"\n",
    "    url = f\"{base_url}/chembl/api/data/molecule.json?logp__isnull=false&molecule_patents__isnull=false&limit={limit}\"\n",
    "    molecules = []\n",
    "    page = 0\n",
    "\n",
    "    while url and (max_pages is None or page < max_pages):\n",
    "        if verbose:\n",
    "            print(f\"Fetching page {page + 1}...\")\n",
    "        res = requests.get(url)\n",
    "        res.raise_for_status()\n",
    "        data = res.json()\n",
    "        molecules.extend(data['molecules'])\n",
    "\n",
    "        next_url = data['page_meta'].get('next')\n",
    "        url = f\"{base_url}{next_url}\" if next_url else None\n",
    "        page += 1\n",
    "\n",
    "    # Fetch SMILES and Patent IDs for each molecule\n",
    "    molecules_with_smiles_and_patents = []\n",
    "    for molecule in molecules:\n",
    "        patent_ids = []\n",
    "        smiles = None\n",
    "        \n",
    "        # Get SMILES from molecule_structures\n",
    "        if 'molecule_structures' in molecule:\n",
    "            smiles = molecule['molecule_structures'].get('canonical_smiles', None)\n",
    "        \n",
    "        # Get patent IDs from molecule_patents\n",
    "        if 'molecule_patents' in molecule:\n",
    "            patent_ids = [patent['patent_chembl_id'] for patent in molecule['molecule_patents']]\n",
    "        \n",
    "        # Add SMILES and patent IDs to molecule data\n",
    "        molecule['smiles'] = smiles\n",
    "        molecule['patent_ids'] = patent_ids\n",
    "        molecules_with_smiles_and_patents.append(molecule)\n",
    "\n",
    "    return molecules_with_smiles_and_patents\n"
   ]
  },
  {
   "cell_type": "code",
   "execution_count": 43,
   "metadata": {},
   "outputs": [
    {
     "name": "stdout",
     "output_type": "stream",
     "text": [
      "Fetching page 1...\n",
      "Fetched 100 molecules with logP.\n"
     ]
    }
   ],
   "source": [
    "# Fetch the first 100 molecules with logP\n",
    "molecules = fetch_molecules_with_logp_and_patents(limit=100, max_pages=1)\n",
    "\n",
    "# Save raw data\n",
    "with open(\"../data/raw/chembl_logp_molecules.json\", \"w\") as f:\n",
    "    json.dump(molecules, f, indent=2)\n",
    "\n",
    "print(f\"Fetched {len(molecules)} molecules with logP.\")"
   ]
  },
  {
   "cell_type": "code",
   "execution_count": 44,
   "metadata": {},
   "outputs": [
    {
     "data": {
      "text/plain": [
       "Index(['atc_classifications', 'availability_type', 'biotherapeutic',\n",
       "       'black_box_warning', 'chebi_par_id', 'chemical_probe', 'chirality',\n",
       "       'cross_references', 'dosed_ingredient', 'first_approval',\n",
       "       'first_in_class', 'helm_notation', 'indication_class', 'inorganic_flag',\n",
       "       'max_phase', 'molecule_chembl_id', 'molecule_hierarchy',\n",
       "       'molecule_properties', 'molecule_structures', 'molecule_synonyms',\n",
       "       'molecule_type', 'natural_product', 'oral', 'orphan', 'parenteral',\n",
       "       'polymer_flag', 'pref_name', 'prodrug', 'structure_type',\n",
       "       'therapeutic_flag', 'topical', 'usan_stem', 'usan_stem_definition',\n",
       "       'usan_substem', 'usan_year', 'withdrawn_flag', 'patent_ids'],\n",
       "      dtype='object')"
      ]
     },
     "execution_count": 44,
     "metadata": {},
     "output_type": "execute_result"
    }
   ],
   "source": [
    "df = pd.DataFrame(molecules)\n",
    "df.columns"
   ]
  },
  {
   "cell_type": "code",
   "execution_count": 45,
   "metadata": {},
   "outputs": [],
   "source": [
    "df = df[['molecule_structures', 'molecule_chembl_id', 'patent_ids']]"
   ]
  },
  {
   "cell_type": "code",
   "execution_count": 46,
   "metadata": {},
   "outputs": [
    {
     "data": {
      "text/html": [
       "<div>\n",
       "<style scoped>\n",
       "    .dataframe tbody tr th:only-of-type {\n",
       "        vertical-align: middle;\n",
       "    }\n",
       "\n",
       "    .dataframe tbody tr th {\n",
       "        vertical-align: top;\n",
       "    }\n",
       "\n",
       "    .dataframe thead th {\n",
       "        text-align: right;\n",
       "    }\n",
       "</style>\n",
       "<table border=\"1\" class=\"dataframe\">\n",
       "  <thead>\n",
       "    <tr style=\"text-align: right;\">\n",
       "      <th></th>\n",
       "      <th>molecule_structures</th>\n",
       "      <th>molecule_chembl_id</th>\n",
       "      <th>patent_ids</th>\n",
       "    </tr>\n",
       "  </thead>\n",
       "  <tbody>\n",
       "    <tr>\n",
       "      <th>0</th>\n",
       "      <td>{'canonical_smiles': 'Cc1cc(-n2ncc(=O)[nH]c2=O...</td>\n",
       "      <td>CHEMBL6329</td>\n",
       "      <td>[]</td>\n",
       "    </tr>\n",
       "    <tr>\n",
       "      <th>1</th>\n",
       "      <td>{'canonical_smiles': 'Cc1cc(-n2ncc(=O)[nH]c2=O...</td>\n",
       "      <td>CHEMBL6328</td>\n",
       "      <td>[]</td>\n",
       "    </tr>\n",
       "    <tr>\n",
       "      <th>2</th>\n",
       "      <td>{'canonical_smiles': 'Cc1cc(-n2ncc(=O)[nH]c2=O...</td>\n",
       "      <td>CHEMBL265667</td>\n",
       "      <td>[]</td>\n",
       "    </tr>\n",
       "    <tr>\n",
       "      <th>3</th>\n",
       "      <td>{'canonical_smiles': 'Cc1ccc(C(=O)c2ccc(-n3ncc...</td>\n",
       "      <td>CHEMBL6362</td>\n",
       "      <td>[]</td>\n",
       "    </tr>\n",
       "    <tr>\n",
       "      <th>4</th>\n",
       "      <td>{'canonical_smiles': 'Cc1cc(-n2ncc(=O)[nH]c2=O...</td>\n",
       "      <td>CHEMBL267864</td>\n",
       "      <td>[]</td>\n",
       "    </tr>\n",
       "    <tr>\n",
       "      <th>...</th>\n",
       "      <td>...</td>\n",
       "      <td>...</td>\n",
       "      <td>...</td>\n",
       "    </tr>\n",
       "    <tr>\n",
       "      <th>95</th>\n",
       "      <td>{'canonical_smiles': 'CCCC(C)NC(=O)OCC1CN(C(=O...</td>\n",
       "      <td>CHEMBL269133</td>\n",
       "      <td>[]</td>\n",
       "    </tr>\n",
       "    <tr>\n",
       "      <th>96</th>\n",
       "      <td>{'canonical_smiles': 'O=C(C1CCCCN1)N1CCN(Cc2cc...</td>\n",
       "      <td>CHEMBL6346</td>\n",
       "      <td>[]</td>\n",
       "    </tr>\n",
       "    <tr>\n",
       "      <th>97</th>\n",
       "      <td>{'canonical_smiles': 'c1cncc(CN2CCN(C[C@@H]3CC...</td>\n",
       "      <td>CHEMBL414181</td>\n",
       "      <td>[]</td>\n",
       "    </tr>\n",
       "    <tr>\n",
       "      <th>98</th>\n",
       "      <td>{'canonical_smiles': 'c1cc(CN2CCN(C[C@@H]3CCCN...</td>\n",
       "      <td>CHEMBL6334</td>\n",
       "      <td>[]</td>\n",
       "    </tr>\n",
       "    <tr>\n",
       "      <th>99</th>\n",
       "      <td>{'canonical_smiles': 'O=c1oc2c(O)c(O)ccc2c2cc(...</td>\n",
       "      <td>CHEMBL263076</td>\n",
       "      <td>[]</td>\n",
       "    </tr>\n",
       "  </tbody>\n",
       "</table>\n",
       "<p>100 rows × 3 columns</p>\n",
       "</div>"
      ],
      "text/plain": [
       "                                  molecule_structures molecule_chembl_id  \\\n",
       "0   {'canonical_smiles': 'Cc1cc(-n2ncc(=O)[nH]c2=O...         CHEMBL6329   \n",
       "1   {'canonical_smiles': 'Cc1cc(-n2ncc(=O)[nH]c2=O...         CHEMBL6328   \n",
       "2   {'canonical_smiles': 'Cc1cc(-n2ncc(=O)[nH]c2=O...       CHEMBL265667   \n",
       "3   {'canonical_smiles': 'Cc1ccc(C(=O)c2ccc(-n3ncc...         CHEMBL6362   \n",
       "4   {'canonical_smiles': 'Cc1cc(-n2ncc(=O)[nH]c2=O...       CHEMBL267864   \n",
       "..                                                ...                ...   \n",
       "95  {'canonical_smiles': 'CCCC(C)NC(=O)OCC1CN(C(=O...       CHEMBL269133   \n",
       "96  {'canonical_smiles': 'O=C(C1CCCCN1)N1CCN(Cc2cc...         CHEMBL6346   \n",
       "97  {'canonical_smiles': 'c1cncc(CN2CCN(C[C@@H]3CC...       CHEMBL414181   \n",
       "98  {'canonical_smiles': 'c1cc(CN2CCN(C[C@@H]3CCCN...         CHEMBL6334   \n",
       "99  {'canonical_smiles': 'O=c1oc2c(O)c(O)ccc2c2cc(...       CHEMBL263076   \n",
       "\n",
       "   patent_ids  \n",
       "0          []  \n",
       "1          []  \n",
       "2          []  \n",
       "3          []  \n",
       "4          []  \n",
       "..        ...  \n",
       "95         []  \n",
       "96         []  \n",
       "97         []  \n",
       "98         []  \n",
       "99         []  \n",
       "\n",
       "[100 rows x 3 columns]"
      ]
     },
     "execution_count": 46,
     "metadata": {},
     "output_type": "execute_result"
    }
   ],
   "source": [
    "df"
   ]
  },
  {
   "cell_type": "code",
   "execution_count": 47,
   "metadata": {},
   "outputs": [
    {
     "name": "stdout",
     "output_type": "stream",
     "text": [
      "{'documents': [{'abstract': '', 'authors': None, 'chembl_release': {'chembl_release': 'CHEMBL_7', 'creation_date': '2010-09-29'}, 'contact': None, 'doc_type': 'DATASET', 'document_chembl_id': 'CHEMBL1158643', 'doi': None, 'doi_chembl': None, 'first_page': None, 'issue': None, 'journal': None, 'journal_full_title': None, 'last_page': None, 'patent_id': None, 'pubmed_id': None, 'src_id': 0, 'title': 'Unpublished dataset', 'volume': None, 'year': None}, {'abstract': '', 'authors': 'Clader JW.', 'chembl_release': {'chembl_release': 'CHEMBL_1', 'creation_date': '2009-09-03'}, 'contact': None, 'doc_type': 'PUBLICATION', 'document_chembl_id': 'CHEMBL1139451', 'doi': '10.1021/jm030283g', 'doi_chembl': None, 'first_page': '1', 'issue': '1', 'journal': 'J Med Chem', 'journal_full_title': 'Journal of medicinal chemistry.', 'last_page': '9', 'patent_id': None, 'pubmed_id': 14695813, 'src_id': 1, 'title': 'The discovery of ezetimibe: a view from outside the receptor.', 'volume': '47', 'year': 2004}, {'abstract': 'Okadaic acid (OA) is a toxin responsible for diarrhetic shellfish poisoning and is an extremely useful tool for studying processes that are regulated by phosphorylation, although the exact mechanism of action is still undetermined. We report on a study that proved the existence of OA in an unusual dimeric form when complexed with potassium ion. The proposed structure of this dimer is based on spectroscopic and conformational studies.', 'authors': 'Daranas AH, Fernández JJ, Morales EQ, Norte M, Gavín JA.', 'chembl_release': {'chembl_release': 'CHEMBL_1', 'creation_date': '2009-09-03'}, 'contact': None, 'doc_type': 'PUBLICATION', 'document_chembl_id': 'CHEMBL1148466', 'doi': '10.1021/jm034189b', 'doi_chembl': None, 'first_page': '10', 'issue': '1', 'journal': 'J Med Chem', 'journal_full_title': 'Journal of medicinal chemistry.', 'last_page': '13', 'patent_id': None, 'pubmed_id': 14695814, 'src_id': 1, 'title': 'Self-association of okadaic acid upon complexation with potassium ion.', 'volume': '47', 'year': 2004}, {'abstract': 'A variety of novel heterocyclic compounds having thienoazepine, pyrroloazepine, furoazepine, and thienodiazepine skeletons were synthesized, most of which exhibited potent antagonism of [(3)H]-AVP specific binding in assays using rat liver (V1), rat kidney (V2), human platelet plasma membranes, and recombinant human CHO cells (V2), as well as antagonizing AVP-induced hypertension in rats (V1, intravenous) and showing a diuretic effect in rats (V2, oral). By detailed studies of the structure-activity relationships of these compounds, the thienoazepine derivative 1 was found to be a very potent combined V1 and V2 antagonist. After further pharmacological and toxicological evaluation as well as physical properties, the hydrochloride 2 (JTV-605) of compound 1 was selected for clinical studies as a potent AVP antagonist with a long duration of action.', 'authors': 'Cho H, Murakami K, Nakanishi H, Fujisawa A, Isoshima H, Niwa M, Hayakawa K, Hase Y, Uchida I, Watanabe H, Wakitani K, Aisaka K.', 'chembl_release': {'chembl_release': 'CHEMBL_1', 'creation_date': '2009-09-03'}, 'contact': None, 'doc_type': 'PUBLICATION', 'document_chembl_id': 'CHEMBL1139452', 'doi': '10.1021/jm030287l', 'doi_chembl': None, 'first_page': '101', 'issue': '1', 'journal': 'J Med Chem', 'journal_full_title': 'Journal of medicinal chemistry.', 'last_page': '109', 'patent_id': None, 'pubmed_id': 14695824, 'src_id': 1, 'title': 'Synthesis and structure-activity relationships of 5,6,7,8-tetrahydro-4H-thieno[3,2-b]azepine derivatives: novel arginine vasopressin antagonists.', 'volume': '47', 'year': 2004}, {'abstract': \"The hemoglobin-degrading aspartic proteases plasmepsin I (Plm I) and plasmepsin II (Plm II) of the malaria parasite Plasmodium falciparum have lately emerged as putative drug targets. A series of C(2)-symmetric compounds encompassing the 1,2-dihydroxyethylene scaffold and a variety of elongated P1/P1' side chains were synthesized via microwave-assisted palladium-catalyzed coupling reactions. Binding affinity calculations with the linear interaction energy method and molecular dynamics simulations reproduced the experimental binding data obtained in a Plm II assay with very good accuracy. Bioactive conformations of the elongated P1/P1' chains were predicted and agreed essentially with a recent X-ray structure. The compounds exhibited picomolar to nanomolar inhibition constants for the plasmepsins and no measurable affinity to the human enzyme cathepsin D. Some of the compounds also demonstrated significant inhibition of parasite growth in cell culture. To the best of our knowledge, these plasmepsin inhibitors represent the most selective reported to date and constitute promising lead compounds for further optimization.\", 'authors': 'Ersmark K, Feierberg I, Bjelic S, Hamelink E, Hackett F, Blackman MJ, Hultén J, Samuelsson B, Aqvist J, Hallberg A.', 'chembl_release': {'chembl_release': 'CHEMBL_1', 'creation_date': '2009-09-03'}, 'contact': None, 'doc_type': 'PUBLICATION', 'document_chembl_id': 'CHEMBL1139453', 'doi': '10.1021/jm030933g', 'doi_chembl': None, 'first_page': '110', 'issue': '1', 'journal': 'J Med Chem', 'journal_full_title': 'Journal of medicinal chemistry.', 'last_page': '122', 'patent_id': None, 'pubmed_id': 14695825, 'src_id': 1, 'title': 'Potent inhibitors of the Plasmodium falciparum enzymes plasmepsin I and II devoid of cathepsin D inhibitory activity.', 'volume': '47', 'year': 2004}, {'abstract': 'A comparative NMR conformational analysis of three distinct tetrapeptide inhibitors of the Hepatitis C NS3 protease that differ at the 4-aryloxy-substituted P2 proline position was undertaken. Specifically, transferred nuclear Overhauser effect experiments in combination with restrained systematic conformational searches were used to characterize the orientation of the P2 aryl substituents of these inhibitors when bound to the NS3 protease. Differences between free and bound conformations were also investigated. Analysis of the results allowed the design of a new P2 aromatic substituent, which significantly increased the potency of our inhibitors. The bound conformation of a specific competitive inhibitor having this novel P2 substituent is also described, along with a model of this inhibitor bound to the NS3 protease. This NS3 protease/inhibitor complex model also supports a hypothetical stabilization role for the P2 residue of the substrates and/or inhibitors and further elucidates the subtle details of the binding of the P2 residue of substrate-based inhibitors.', 'authors': 'Goudreau N, Cameron DR, Bonneau P, Gorys V, Plouffe C, Poirier M, Lamarre D, Llinas-Brunet M.', 'chembl_release': {'chembl_release': 'CHEMBL_1', 'creation_date': '2009-09-03'}, 'contact': None, 'doc_type': 'PUBLICATION', 'document_chembl_id': 'CHEMBL1139454', 'doi': '10.1021/jm0303002', 'doi_chembl': None, 'first_page': '123', 'issue': '1', 'journal': 'J Med Chem', 'journal_full_title': 'Journal of medicinal chemistry.', 'last_page': '132', 'patent_id': None, 'pubmed_id': 14695826, 'src_id': 1, 'title': 'NMR structural characterization of peptide inhibitors bound to the Hepatitis C virus NS3 protease: design of a new P2 substituent.', 'volume': '47', 'year': 2004}, {'abstract': 'Human monoclonal antibodies (mAbs) designed for immunotherapy have a high potential for avoiding the complications that may result from human immune system responses to the introduction of nonhuman mAbs into patients. This study presents a characterization of cocaine/antibody interactions that determine the binding properties of the novel human sequence mAb 2E2 using three-dimensional quantitative structure-activity relationship (3D-QSAR) methodology. We have experimentally determined the binding affinities of mAb 2E2 for cocaine and 38 cocaine analogues. The K(d) of mAb 2E2 for cocaine was 4 nM, indicating a high affinity. Also, mAb 2E2 displayed good cocaine specificity, as reflected in its 10-, 1500-, and 25000-fold lower binding affinities for the three physiologically relevant cocaine metabolites benzoylecgonine, ecgonine methyl ester, and ecgonine, respectively. 3D-QSAR models of cocaine binding were developed by comparative molecular similarity index analysis (CoMSIA). A model of high statistical quality was generated showing that cocaine binds to mAb 2E2 in a sterically restricted binding site that leaves the methyl group attached to the ring nitrogen of cocaine solvent-exposed. The methyl ester group of cocaine appears to engage in attractive van der Waals interactions with mAb 2E2, whereas the phenyl group contributes to the binding primarily via hydrophobic interactions. The model further indicated that an increase in partial positive charge near the nitrogen proton and methyl ester carbonyl group enhances binding affinity and that the ester oxygen likely forms an intermolecular hydrogen bond with mAb 2E2. Overall, the cocaine binding properties of mAb 2E2 support its clinical potential for development as a treatment of cocaine overdose and addiction.', 'authors': 'Paula S, Tabet MR, Farr CD, Norman AB, Ball WJ.', 'chembl_release': {'chembl_release': 'CHEMBL_1', 'creation_date': '2009-09-03'}, 'contact': None, 'doc_type': 'PUBLICATION', 'document_chembl_id': 'CHEMBL1139455', 'doi': '10.1021/jm030351z', 'doi_chembl': None, 'first_page': '133', 'issue': '1', 'journal': 'J Med Chem', 'journal_full_title': 'Journal of medicinal chemistry.', 'last_page': '142', 'patent_id': None, 'pubmed_id': 14695827, 'src_id': 1, 'title': 'Three-dimensional quantitative structure-activity relationship modeling of cocaine binding by a novel human monoclonal antibody.', 'volume': '47', 'year': 2004}, {'abstract': 'alpha,gamma-Diketo acids (DKA) were discovered from screening as selective and reversible inhibitors of hepatitis C virus NS5b RNA-dependent RNA polymerase. The diketo acid moiety proved essential for activity, while substitution on the gamma position was necessary for selectivity and potency. Optimization led to the identification of a DKA inhibitor of NS5b polymerase with IC(50) = 45 nM, one of the most potent HCV NS5b polymerase inhibitors reported.', 'authors': 'Summa V, Petrocchi A, Pace P, Matassa VG, De Francesco R, Altamura S, Tomei L, Koch U, Neuner P.', 'chembl_release': {'chembl_release': 'CHEMBL_1', 'creation_date': '2009-09-03'}, 'contact': None, 'doc_type': 'PUBLICATION', 'document_chembl_id': 'CHEMBL1139456', 'doi': '10.1021/jm0342109', 'doi_chembl': None, 'first_page': '14', 'issue': '1', 'journal': 'J Med Chem', 'journal_full_title': 'Journal of medicinal chemistry.', 'last_page': '17', 'patent_id': None, 'pubmed_id': 14695815, 'src_id': 1, 'title': 'Discovery of alpha,gamma-diketo acids as potent selective and reversible inhibitors of hepatitis C virus NS5b RNA-dependent RNA polymerase.', 'volume': '47', 'year': 2004}, {'abstract': 'Recently we reported the pharmacological characterization of the 9,10-dihydropyrrolo[1,3]benzothiazepine derivative (S)-(+)-8 as a novel atypical antipsychotic agent. This compound had an optimum pK(i) 5-HT(2A)/D(2) ratio of 1.21 (pK(i) 5-HT(2A) = 8.83; pK(i) D(2) = 7.79). The lower D(2) receptor affinity of (S)-(+)-8 compared to its enantiomer was explained by the difficulty in reaching the conformation required to optimally fulfill the D(2) pharmacophore. With the aim of finding novel atypical antipsychotics we further investigated the core structure of (S)-(+)-8, synthesizing analogues with specific substituents; the structure-activity relationship (SAR) study was also expanded with the design and synthesis of other analogues characterized by a pyrrolo[2,1-b][1,3]benzothiazepine skeleton, substituted on the benzo-fused ring or on the pyrrole system. On the 9,10-dihydro analogues the substituents introduced on the pyrrole ring were detrimental to affinity for dopamine and for 5-HT(2A) receptors, but the introduction of a double bond at C-9/10 on the structure of (S)-(+)-8 led to a potent D(2)/5-HT(2A) receptor ligand with a typical binding profile (9f, pK(i) 5-HT(2A)/D(2) ratio of 1.01, log Y = 8.43). Then, to reduce D(2) receptor affinity and restore atypicality on unsaturated analogues, we exploited the effect of specific substitutions on the tricyclic system of 9f. Through a molecular modeling approach we generated a novel series of potential atypical antipsychotic agents, with optimized 5HT(2A)/D(2) receptor affinity ratios and that were easier to synthesize and purify than the reference compound (S)-(+)-8. A number of SAR trends were identified, and among the analogues synthesized and tested in binding assays, 9d and 9m were identified as the most interesting, giving atypical log Y scores respectively 4.98 and 3.18 (pK(i) 5-HT(2A)/D(2) ratios of 1.20 and 1.30, respectively). They had a multireceptor affinity profile and could be promising atypical agents. Compound 9d, whose synthesis is easier and whose binding profile is atypical (log Y score similar to that of olanzapine, 3.89), was selected for further biological investigation. Pharmacological and biochemical studies confirmed an atypical antipsychotic profile in vivo. The compound was active on conditioned avoidance response at 1.1 mg/kg, a dose 100-times lower than that required to cause catalepsy (ED(50) >90 mg/kg), it induced a negligible increase of prolactin serum levels after single and multiple doses, and antagonized the cognitive impairment induced by phencyclidine. In conclusion, the pharmacological profile of 9d proved better than clozapine and olanzapine, making this compound a potential clinical candidate.', 'authors': 'Campiani G, Butini S, Fattorusso C, Catalanotti B, Gemma S, Nacci V, Morelli E, Cagnotto A, Mereghetti I, Mennini T, Carli M, Minetti P, Di Cesare MA, Mastroianni D, Scafetta N, Galletti B, Stasi MA, Castorina M, Pacifici L, Vertechy M, Di Serio S, Ghirardi O, Tinti O, Carminati P.', 'chembl_release': {'chembl_release': 'CHEMBL_1', 'creation_date': '2009-09-03'}, 'contact': None, 'doc_type': 'PUBLICATION', 'document_chembl_id': 'CHEMBL1139457', 'doi': '10.1021/jm0309811', 'doi_chembl': None, 'first_page': '143', 'issue': '1', 'journal': 'J Med Chem', 'journal_full_title': 'Journal of medicinal chemistry.', 'last_page': '157', 'patent_id': None, 'pubmed_id': 14695828, 'src_id': 1, 'title': 'Pyrrolo[1,3]benzothiazepine-based serotonin and dopamine receptor antagonists. Molecular modeling, further structure-activity relationship studies, and identification of novel atypical antipsychotic agents.', 'volume': '47', 'year': 2004}, {'abstract': 'The Boehringer Ingelheim compound collection was screened for inhibitors of the ATPase activity of human papillomavirus E1 helicase to develop antiviral agents that inhibit human papillomavirus (HPV) DNA replication. This screen led to the discovery of (biphenyl-4-sulfonyl)acetic acid 1, which inhibits the ATPase activity of HPV type 6 E1 helicase with a low micromolar IC(50) value. A hit-to-lead exercise rapidly converted 1 into a low nanomolar lead series.', 'authors': 'Faucher AM, White PW, Brochu C, Grand-Maître C, Rancourt J, Fazal G.', 'chembl_release': {'chembl_release': 'CHEMBL_1', 'creation_date': '2009-09-03'}, 'contact': None, 'doc_type': 'PUBLICATION', 'document_chembl_id': 'CHEMBL1139458', 'doi': '10.1021/jm034206x', 'doi_chembl': None, 'first_page': '18', 'issue': '1', 'journal': 'J Med Chem', 'journal_full_title': 'Journal of medicinal chemistry.', 'last_page': '21', 'patent_id': None, 'pubmed_id': 14695816, 'src_id': 1, 'title': 'Discovery of small-molecule inhibitors of the ATPase activity of human papillomavirus E1 helicase.', 'volume': '47', 'year': 2004}, {'abstract': 'A series of benzoxazinones has been synthesized and tested for PPARgamma agonist activity. Synthetic approaches were developed to provide either racemic or chiral compounds. In vitro functional potency could be measured through induction of the aP2 gene, a target of PPARgamma. These studies revealed that compounds with large aliphatic chains at the nitrogen of the benzoxazinone were the most potent. Substitution of the chain was tolerated and in many cases enhanced the in vitro potency of the compound. Select compounds were further tested for metabolic stability, oral bioavailability in rats, and efficacy in db/db mice after 11 days of dosing. In vivo analysis with 13 and 57 demonstrated that the series has potential for the treatment of type 2 diabetes.', 'authors': 'Rybczynski PJ, Zeck RE, Dudash J, Combs DW, Burris TP, Yang M, Osborne MC, Chen X, Demarest KT.', 'chembl_release': {'chembl_release': 'CHEMBL_1', 'creation_date': '2009-09-03'}, 'contact': None, 'doc_type': 'PUBLICATION', 'document_chembl_id': 'CHEMBL1148467', 'doi': '10.1021/jm0301888', 'doi_chembl': None, 'first_page': '196', 'issue': '1', 'journal': 'J Med Chem', 'journal_full_title': 'Journal of medicinal chemistry.', 'last_page': '209', 'patent_id': None, 'pubmed_id': 14695833, 'src_id': 1, 'title': 'Benzoxazinones as PPARgamma agonists. 2. SAR of the amide substituent and in vivo results in a type 2 diabetes model.', 'volume': '47', 'year': 2004}, {'abstract': \"Tumor tissues have an acidic microenvironment with a pH from 6.0 to 7.0, whereas the intra- and extracellular milieu of normal cells is 7.4. We have found that the hydrolysis of sodium trioxodinitrate (Angeli's salt; 1) to hydroxyl radical (*OH) was 10 times higher at pH = 6.0 than at pH = 7.4. It is hypothesized that the formation of *OH in solutions of 1 reflects the hydrolysis of the latter compound to nitroxyl (HNO) which dimerizes to cis-hyponitrous acid (HO-N=N-OH; 3) with concomitant azo-type homolytic fission to N(2) and *OH. In weakly acidified solutions, 1 exhibited strong toxicity to cancer cells that was inhibited by scavengers of hydroxyl radical, whereas no toxicity was observed at pH = 7.4. In a subcutaneous xenograft model of pheochromocytoma, 1 markedly inhibited tumor growth at a dose that was nontoxic to nude mice. These data suggest that the H(+)-amplified production of *OH from 1, and maybe other precursors of HNO, could be a selective mechanism for destruction cells with an acidic intra- or extracellular microenvironment.\", 'authors': 'Stoyanovsky DA, Schor NF, Nylander KD, Salama G.', 'chembl_release': {'chembl_release': 'CHEMBL_1', 'creation_date': '2009-09-03'}, 'contact': None, 'doc_type': 'PUBLICATION', 'document_chembl_id': 'CHEMBL1139459', 'doi': '10.1021/jm030192j', 'doi_chembl': None, 'first_page': '210', 'issue': '1', 'journal': 'J Med Chem', 'journal_full_title': 'Journal of medicinal chemistry.', 'last_page': '217', 'patent_id': None, 'pubmed_id': 14695834, 'src_id': 1, 'title': \"Effects of pH on the cytotoxicity of sodium trioxodinitrate (Angeli's salt).\", 'volume': '47', 'year': 2004}, {'abstract': 'Chemical aspects of mode of action of imexon and related cyanoaziridines were studied. These compounds do not alkylate DNA nor react with the epsilon-amino groups of l-lysine, despite the presence of an aziridine ring. They do react readily with biologically important sulfhydryl compounds to give products derived from either aziridine ring opening, interaction with the cyano group of cyanoaziridines, or opening of the iminopyrrolidone ring of imexon. The products from reactions of imexon and related cyanoaziridines with thiols are not as potent as their parent compounds against tumor cells. These results are consistent with biological studies that show that the mechanism of cytotoxicity involves thiol depletion followed by oxidative stress leading to apoptosis.', 'authors': 'Iyengar BS, Dorr RT, Remers WA.', 'chembl_release': {'chembl_release': 'CHEMBL_1', 'creation_date': '2009-09-03'}, 'contact': None, 'doc_type': 'PUBLICATION', 'document_chembl_id': 'CHEMBL1146638', 'doi': '10.1021/jm030225v', 'doi_chembl': None, 'first_page': '218', 'issue': '1', 'journal': 'J Med Chem', 'journal_full_title': 'Journal of medicinal chemistry.', 'last_page': '223', 'patent_id': None, 'pubmed_id': 14695835, 'src_id': 1, 'title': 'Chemical basis for the biological activity of imexon and related cyanoaziridines.', 'volume': '47', 'year': 2004}, {'abstract': 'The paper describes the design, synthesis, and testing of inhibitors of folate-synthesizing enzymes and of whole cell cultures of Candida albicans. The target enzymes used were dihydropteroic acid synthase (SYN) and dihydrofolate reductase (DHFR). Several series of new 2,4-diaminopyrimidines were synthesized and tested as inhibitors of DHFR and compared with their activity against DHFR derived from mycobacteria and Escherichia coli. To test for selectivity, also rat DHFR was used. A series of substituted 4-aminodiphenyl sulfones was tested for inhibitory activity against SYN and the I(50) values compared to those obtained previously against Plasmodium berghei- and E. coli-derived SYN. Surprisingly, QSAR equations show very similar structural dependencies. To find an explanation for the large difference in the I(50) values observed for enzyme inhibition (SYN, DHFR) and for inhibition of cell cultures of Candida, mutant strains with overexpressed efflux pumps and strains in which such pumps are deleted were included in the study and the MICs compared. Efflux pumps were responsible for the low activity of some of the tested derivatives, others showed no increase in activity after pumps were knocked out. In this case it may be speculated that these derivatives are not able to enter the cells.', 'authors': 'Otzen T, Wempe EG, Kunz B, Bartels R, Lehwark-Yvetot G, Hänsel W, Schaper KJ, Seydel JK.', 'chembl_release': {'chembl_release': 'CHEMBL_1', 'creation_date': '2009-09-03'}, 'contact': None, 'doc_type': 'PUBLICATION', 'document_chembl_id': 'CHEMBL1139439', 'doi': '10.1021/jm030931w', 'doi_chembl': None, 'first_page': '240', 'issue': '1', 'journal': 'J Med Chem', 'journal_full_title': 'Journal of medicinal chemistry.', 'last_page': '253', 'patent_id': None, 'pubmed_id': 14695838, 'src_id': 1, 'title': \"Folate-synthesizing enzyme system as target for development of inhibitors and inhibitor combinations against Candida albicans-synthesis and biological activity of new 2,4-diaminopyrimidines and 4'-substituted 4-aminodiphenyl sulfones.\", 'volume': '47', 'year': 2004}, {'abstract': 'Thio analogues of purine, pyridine, and pyrimidine were prepared based on the initial activity screening of several analogues of these heterocycles against Mycobacterium tuberculosis (Mtb). Certain 6-thio-substituted purine analogues described herein showed moderate to good inhibitory activity. In particular, two purine analogues 9-(ethylcarboxymethyl)-6-(decylthio)-9H-purine (20) and 9-(ethylcarboxymethyl)-6-(dodecylthio)-9H-purine (21) exhibited MIC values of 1.56 and 0.78 microg/mL respectively against the Mtb H(37)Rv strain. N(9)-Substitution apparently enhances the antimycobacterial activity in the purine series described herein.', 'authors': 'Pathak AK, Pathak V, Seitz LE, Suling WJ, Reynolds RC.', 'chembl_release': {'chembl_release': 'CHEMBL_1', 'creation_date': '2009-09-03'}, 'contact': None, 'doc_type': 'PUBLICATION', 'document_chembl_id': 'CHEMBL1149166', 'doi': '10.1021/jm030389b', 'doi_chembl': None, 'first_page': '273', 'issue': '1', 'journal': 'J Med Chem', 'journal_full_title': 'Journal of medicinal chemistry.', 'last_page': '276', 'patent_id': None, 'pubmed_id': 14695841, 'src_id': 1, 'title': 'Antimycobacterial agents. 1. Thio analogues of purine.', 'volume': '47', 'year': 2004}, {'abstract': \"Both quantitative and qualitative chemical function based pharmacophore models of endothelin-A (ET(A)) selective receptor antagonists were generated by using the two algorithms HypoGen and HipHop, respectively, which are implemented in the Catalyst molecular modeling software. The input for HypoGen is a training set of 18 ET(A) antagonists exhibiting IC(50) values ranging between 0.19 nM and 67 microM. The best output hypothesis consists of five features: two hydrophobic (HY), one ring aromatic (RA), one hydrogen bond acceptor (HBA), and one negative ionizable (NI) function. The highest scoring Hip Hop model consists of six features: three hydrophobic (HY), one ring aromatic (RA), one hydrogen bond acceptor (HBA), and one negative ionizable (NI). It is the result of an input of three highly active, selective, and structurally diverse ET(A) antagonists. The predictive power of the quantitative model could be approved by using a test set of 30 compounds, whose activity values spread over 6 orders of magnitude. The two pharmacophores were tested according to their ability to extract known endothelin antagonists from the 3D molecular structure database of Derwent's World Drug Index. Thereby the main part of selective ET(A) antagonistic entries was detected by the two hypotheses. Furthermore, the pharmacophores were used to screen the Maybridge database. Six compounds were chosen from the output hit lists for in vitro testing of their ability to displace endothelin-1 from its receptor. Two of these are new potential lead compounds because they are structurally novel and exhibit satisfactory activity in the binding assay.\", 'authors': 'Funk OF, Kettmann V, Drimal J, Langer T.', 'chembl_release': {'chembl_release': 'CHEMBL_1', 'creation_date': '2009-09-03'}, 'contact': None, 'doc_type': 'PUBLICATION', 'document_chembl_id': 'CHEMBL1139440', 'doi': '10.1021/jm031041j', 'doi_chembl': None, 'first_page': '2750', 'issue': '11', 'journal': 'J Med Chem', 'journal_full_title': 'Journal of medicinal chemistry.', 'last_page': '2760', 'patent_id': None, 'pubmed_id': 15139753, 'src_id': 1, 'title': 'Chemical function based pharmacophore generation of endothelin-A selective receptor antagonists.', 'volume': '47', 'year': 2004}, {'abstract': \"A series of novel alpha-ketoamides incorporating stereoisomeric residues with different electronic properties at the P(1)'-position were synthesized to study the electronic requirements for inhibitor binding to the S(1)'-subsite of calpain I. The results of the study suggested the presence of an acidic amino acid residue at the S(1)'-subsite of calpain I. For example, ester 1a (Cbz-l-Leu-l-Phe-CO-d-Phe-OMe) was over 450-fold more potent than its carboxylic acid derivative 2a (Cbz-l-Leu-l-Phe-CO-d-Phe-OH). Additionally, amidino derivative 3a (Cbz-l-Leu-l-Phe-CONH-d-CH[C(NH)NH(2)]Bn) was about 6000-fold more potent than 2a. Furthermore, 4a (Cbz-l-Leu-l-Phe-CONHCH(2)Bn) was 12-fold less potent than its aza analogue 4b (Cbz-l-Leu-l-Phe-CONHNHBn). The results are consistent with the presence of an acidic amino acid residue at the S(1)'-subsite of calpain I. The acidic amino acid residue was found to be Glu261 via molecular modeling studies.\", 'authors': 'Donkor IO, Han J, Zheng X.', 'chembl_release': {'chembl_release': 'CHEMBL_1', 'creation_date': '2009-09-03'}, 'contact': None, 'doc_type': 'PUBLICATION', 'document_chembl_id': 'CHEMBL1139441', 'doi': '10.1021/jm0301336', 'doi_chembl': None, 'first_page': '72', 'issue': '1', 'journal': 'J Med Chem', 'journal_full_title': 'Journal of medicinal chemistry.', 'last_page': '79', 'patent_id': None, 'pubmed_id': 14695821, 'src_id': 1, 'title': \"Design, synthesis, molecular modeling studies, and calpain inhibitory activity of novel alpha-ketoamides incorporating polar residues at the P1'-position.\", 'volume': '47', 'year': 2004}, {'abstract': \"Work in this laboratory has been involved with the design of aziridinyl quinone-based cancer drugs (PBIs) capable of both recognizing the DNA major groove and cleaving the phosphate backbone upon reduction to the hydroquinone. The hydroquinone species recognizes the major groove of DNA at single base pairs by Hoogsteen-type hydrogen bonding. The present study extends recognition beyond a single base pair by adding amino acid residues to the 3-amino center of the PBI system. Thus, extension with proline or proline-glycine results in phosphate cleavage at 5'-AA-3' with insignificant N(7) guanine alkylation. Molecular models were used to validate the observed sequence specificity. This report also describes the design of PBIs not capable of DNA alkylation. Removal of major groove interactions by methylation or the presence of steric bulk prevented DNA alkylation reactions upon reductive activation. From these studies it was concluded that DNA alkyation was not necessary for PBI cytostatic and cytotoxic activity. For example, linkage of two phenylalanines to the PBI results in highly selective cytostatic and cytotoxic activity against melanoma, although this compound is a weak DNA alkylator.\", 'authors': 'Ghodousi A, Huang X, Cheng Z, Skibo EB.', 'chembl_release': {'chembl_release': 'CHEMBL_1', 'creation_date': '2009-09-03'}, 'contact': None, 'doc_type': 'PUBLICATION', 'document_chembl_id': 'CHEMBL1139442', 'doi': '10.1021/jm0302750', 'doi_chembl': None, 'first_page': '90', 'issue': '1', 'journal': 'J Med Chem', 'journal_full_title': 'Journal of medicinal chemistry.', 'last_page': '100', 'patent_id': None, 'pubmed_id': 14695823, 'src_id': 1, 'title': 'Pyrrolobenzimidazoles linked to heterocycles and peptides. Design of DNA base pair specific phosphate hydrolyzing agents and novel cytotoxic agents.', 'volume': '47', 'year': 2004}, {'abstract': \"Three C4'-acyl derivatives (5-7) of GL-331 (4) were synthesized and evaluated for cytotoxic and DNA topoisomerase II (topo II) inhibitory activity. All three compounds were cytotoxic against KB and KB-7d cells. Compounds 5 and 7, but not 6, were potent inhibitors of the DNA topoisomerase II in vitro and this relative activity ranking was maintained for cytotoxicity, in vitro cell growth inhibition, and ability to induce cellular double-strand DNA breaks. These results provided new information on the structure-activity relationships of the C4' molecular area of 4-analogues.\", 'authors': 'Han S, Xiao Z, Bastow KF, Lee KH.', 'chembl_release': {'chembl_release': 'CHEMBL_1', 'creation_date': '2009-09-03'}, 'contact': None, 'doc_type': 'PUBLICATION', 'document_chembl_id': 'CHEMBL1139443', 'doi': '10.1016/j.bmcl.2004.02.102', 'doi_chembl': None, 'first_page': '2979', 'issue': '11', 'journal': 'Bioorg Med Chem Lett', 'journal_full_title': 'Bioorganic & medicinal chemistry letters.', 'last_page': '2982', 'patent_id': None, 'pubmed_id': 15125972, 'src_id': 1, 'title': \"Antitumor agents. Part 230: C4'-esters of GL-331 as cytotoxic agents and DNA topoisomerase II inhibitors.\", 'volume': '14', 'year': 2004}, {'abstract': 'A number of substituted piperazinyl oxazolidinone derivatives have been synthesized and their antibacterial activities were evaluated by MIC determination. A systematic SAR was carried out to get highly potent oxazolidinone derivatives.', 'authors': 'Lohray BB, Lohray VB, Srivastava BK, Gupta S, Solanki M, Kapadnis P, Takale V, Pandya P.', 'chembl_release': {'chembl_release': 'CHEMBL_1', 'creation_date': '2009-09-03'}, 'contact': None, 'doc_type': 'PUBLICATION', 'document_chembl_id': 'CHEMBL1139444', 'doi': '10.1016/j.bmcl.2004.04.024', 'doi_chembl': None, 'first_page': '3139', 'issue': '12', 'journal': 'Bioorg Med Chem Lett', 'journal_full_title': 'Bioorganic & medicinal chemistry letters.', 'last_page': '3142', 'patent_id': None, 'pubmed_id': 15149661, 'src_id': 1, 'title': 'Oxazolidinone: search for highly potent antibacterial.', 'volume': '14', 'year': 2004}], 'page_meta': {'limit': 20, 'next': '/chembl/api/data/document.json?limit=20&offset=20&molecule_chembl_id=CHEMBL6329', 'offset': 0, 'previous': None, 'total_count': 92121}}\n"
     ]
    }
   ],
   "source": [
    "# Test with a known molecule Chembl ID (replace with one you know should have patents)\n",
    "chembl_id = \"CHEMBL6329\"\n",
    "url = f\"https://www.ebi.ac.uk/chembl/api/data/document.json?molecule_chembl_id={chembl_id}\"\n",
    "res = requests.get(url)\n",
    "res.raise_for_status()\n",
    "data = res.json()\n",
    "print(data)\n"
   ]
  },
  {
   "cell_type": "markdown",
   "metadata": {},
   "source": [
    "#### Get document_id for subset"
   ]
  },
  {
   "cell_type": "code",
   "execution_count": 21,
   "metadata": {},
   "outputs": [],
   "source": [
    "# Function to fetch documents associated with a molecule\n",
    "def get_documents_for_molecule(chembl_id):\n",
    "    url = f\"https://www.ebi.ac.uk/chembl/api/data/document.json?molecule_chembl_id={chembl_id}\"\n",
    "    res = requests.get(url)\n",
    "    res.raise_for_status()\n",
    "    return res.json().get(\"documents\", [])"
   ]
  },
  {
   "cell_type": "code",
   "execution_count": null,
   "metadata": {},
   "outputs": [],
   "source": [
    "chembl_id = \"CHEMBL25\"\n",
    "documents = get_documents_for_molecule(chembl_id)\n",
    "documents"
   ]
  },
  {
   "cell_type": "code",
   "execution_count": 24,
   "metadata": {},
   "outputs": [],
   "source": [
    "# Add document IDs to each molecule\n",
    "def fetch_documents_for_molecules(molecules):\n",
    "    doc_map = {}\n",
    "    for mol in molecules:\n",
    "        chembl_id = mol.get(\"molecule_chembl_id\")\n",
    "        if chembl_id:\n",
    "            docs = get_documents_for_molecule(chembl_id)\n",
    "            doc_ids = [d[\"document_chembl_id\"] for d in docs]\n",
    "            doc_map[chembl_id] = doc_ids\n",
    "    return doc_map"
   ]
  },
  {
   "cell_type": "code",
   "execution_count": 25,
   "metadata": {},
   "outputs": [],
   "source": [
    "doc_map = fetch_documents_for_molecules(molecules)"
   ]
  },
  {
   "cell_type": "code",
   "execution_count": null,
   "metadata": {},
   "outputs": [],
   "source": [
    "doc_map"
   ]
  },
  {
   "cell_type": "code",
   "execution_count": 27,
   "metadata": {},
   "outputs": [],
   "source": [
    "df = pd.DataFrame(molecules)"
   ]
  },
  {
   "cell_type": "code",
   "execution_count": 28,
   "metadata": {},
   "outputs": [],
   "source": [
    "df[\"logP\"] = df[\"molecule_properties\"].apply(\n",
    "    lambda x: x.get(\"alogp\") if isinstance(x, dict) else None\n",
    ")"
   ]
  },
  {
   "cell_type": "code",
   "execution_count": 30,
   "metadata": {},
   "outputs": [
    {
     "name": "stdout",
     "output_type": "stream",
     "text": [
      "  molecule_chembl_id  logP                                       document_ids\n",
      "0         CHEMBL6329  2.11  [CHEMBL1158643, CHEMBL1139451, CHEMBL1148466, ...\n",
      "1         CHEMBL6328  1.33  [CHEMBL1158643, CHEMBL1139451, CHEMBL1148466, ...\n",
      "2       CHEMBL265667  2.27  [CHEMBL1158643, CHEMBL1139451, CHEMBL1148466, ...\n",
      "3         CHEMBL6362  1.46  [CHEMBL1158643, CHEMBL1139451, CHEMBL1148466, ...\n",
      "4       CHEMBL267864  2.11  [CHEMBL1158643, CHEMBL1139451, CHEMBL1148466, ...\n"
     ]
    }
   ],
   "source": [
    "df[\"document_ids\"] = df[\"molecule_chembl_id\"].map(doc_map)\n",
    "\n",
    "# Show merged DataFrame\n",
    "df_merged = df[[\"molecule_chembl_id\", \"logP\", \"document_ids\"]]\n",
    "print(df_merged.head())"
   ]
  },
  {
   "cell_type": "markdown",
   "metadata": {},
   "source": [
    "#### Get molecules from document_id"
   ]
  },
  {
   "cell_type": "code",
   "execution_count": 31,
   "metadata": {},
   "outputs": [],
   "source": [
    "def get_molecules_for_document(document_id):\n",
    "    url = f\"https://www.ebi.ac.uk/chembl/api/data/molecule_document.json?document_chembl_id={document_id}\"\n",
    "    res = requests.get(url)\n",
    "    res.raise_for_status()\n",
    "    return res.json().get(\"molecule_documents\", [])"
   ]
  },
  {
   "cell_type": "code",
   "execution_count": 32,
   "metadata": {},
   "outputs": [
    {
     "ename": "HTTPError",
     "evalue": "404 Client Error: Not Found for url: https://www.ebi.ac.uk/chembl/api/data/molecule_document.json?document_chembl_id=CHEMBL1158643",
     "output_type": "error",
     "traceback": [
      "\u001b[0;31m---------------------------------------------------------------------------\u001b[0m",
      "\u001b[0;31mHTTPError\u001b[0m                                 Traceback (most recent call last)",
      "Cell \u001b[0;32mIn[32], line 3\u001b[0m\n\u001b[1;32m      1\u001b[0m \u001b[38;5;66;03m# Example: Get molecules associated with a document\u001b[39;00m\n\u001b[1;32m      2\u001b[0m document_id \u001b[38;5;241m=\u001b[39m \u001b[38;5;124m\"\u001b[39m\u001b[38;5;124mCHEMBL1158643\u001b[39m\u001b[38;5;124m\"\u001b[39m\n\u001b[0;32m----> 3\u001b[0m molecule_docs \u001b[38;5;241m=\u001b[39m get_molecules_for_document(document_id)\n\u001b[1;32m      5\u001b[0m \u001b[38;5;66;03m# Print out the molecule ChEMBL IDs\u001b[39;00m\n\u001b[1;32m      6\u001b[0m molecule_ids \u001b[38;5;241m=\u001b[39m [doc[\u001b[38;5;124m\"\u001b[39m\u001b[38;5;124mmolecule_chembl_id\u001b[39m\u001b[38;5;124m\"\u001b[39m] \u001b[38;5;28;01mfor\u001b[39;00m doc \u001b[38;5;129;01min\u001b[39;00m molecule_docs]\n",
      "Cell \u001b[0;32mIn[31], line 4\u001b[0m, in \u001b[0;36mget_molecules_for_document\u001b[0;34m(document_id)\u001b[0m\n\u001b[1;32m      2\u001b[0m url \u001b[38;5;241m=\u001b[39m \u001b[38;5;124mf\u001b[39m\u001b[38;5;124m\"\u001b[39m\u001b[38;5;124mhttps://www.ebi.ac.uk/chembl/api/data/molecule_document.json?document_chembl_id=\u001b[39m\u001b[38;5;132;01m{\u001b[39;00mdocument_id\u001b[38;5;132;01m}\u001b[39;00m\u001b[38;5;124m\"\u001b[39m\n\u001b[1;32m      3\u001b[0m res \u001b[38;5;241m=\u001b[39m requests\u001b[38;5;241m.\u001b[39mget(url)\n\u001b[0;32m----> 4\u001b[0m res\u001b[38;5;241m.\u001b[39mraise_for_status()\n\u001b[1;32m      5\u001b[0m \u001b[38;5;28;01mreturn\u001b[39;00m res\u001b[38;5;241m.\u001b[39mjson()\u001b[38;5;241m.\u001b[39mget(\u001b[38;5;124m\"\u001b[39m\u001b[38;5;124mmolecule_documents\u001b[39m\u001b[38;5;124m\"\u001b[39m, [])\n",
      "File \u001b[0;32m~/Programs/anaconda3/lib/python3.12/site-packages/requests/models.py:1024\u001b[0m, in \u001b[0;36mResponse.raise_for_status\u001b[0;34m(self)\u001b[0m\n\u001b[1;32m   1019\u001b[0m     http_error_msg \u001b[38;5;241m=\u001b[39m (\n\u001b[1;32m   1020\u001b[0m         \u001b[38;5;124mf\u001b[39m\u001b[38;5;124m\"\u001b[39m\u001b[38;5;132;01m{\u001b[39;00m\u001b[38;5;28mself\u001b[39m\u001b[38;5;241m.\u001b[39mstatus_code\u001b[38;5;132;01m}\u001b[39;00m\u001b[38;5;124m Server Error: \u001b[39m\u001b[38;5;132;01m{\u001b[39;00mreason\u001b[38;5;132;01m}\u001b[39;00m\u001b[38;5;124m for url: \u001b[39m\u001b[38;5;132;01m{\u001b[39;00m\u001b[38;5;28mself\u001b[39m\u001b[38;5;241m.\u001b[39murl\u001b[38;5;132;01m}\u001b[39;00m\u001b[38;5;124m\"\u001b[39m\n\u001b[1;32m   1021\u001b[0m     )\n\u001b[1;32m   1023\u001b[0m \u001b[38;5;28;01mif\u001b[39;00m http_error_msg:\n\u001b[0;32m-> 1024\u001b[0m     \u001b[38;5;28;01mraise\u001b[39;00m HTTPError(http_error_msg, response\u001b[38;5;241m=\u001b[39m\u001b[38;5;28mself\u001b[39m)\n",
      "\u001b[0;31mHTTPError\u001b[0m: 404 Client Error: Not Found for url: https://www.ebi.ac.uk/chembl/api/data/molecule_document.json?document_chembl_id=CHEMBL1158643"
     ]
    }
   ],
   "source": [
    "# Example: Get molecules associated with a document\n",
    "document_id = \"CHEMBL1158643\"\n",
    "molecule_docs = get_molecules_for_document(document_id)\n",
    "\n",
    "# Print out the molecule ChEMBL IDs\n",
    "molecule_ids = [doc[\"molecule_chembl_id\"] for doc in molecule_docs]\n",
    "print(f\"Molecule ChEMBL IDs for document {document_id}: {molecule_ids}\")"
   ]
  },
  {
   "cell_type": "code",
   "execution_count": null,
   "metadata": {},
   "outputs": [],
   "source": []
  }
 ],
 "metadata": {
  "kernelspec": {
   "display_name": "Python 3 (ipykernel)",
   "language": "python",
   "name": "python3"
  },
  "language_info": {
   "codemirror_mode": {
    "name": "ipython",
    "version": 3
   },
   "file_extension": ".py",
   "mimetype": "text/x-python",
   "name": "python",
   "nbconvert_exporter": "python",
   "pygments_lexer": "ipython3",
   "version": "3.12.7"
  }
 },
 "nbformat": 4,
 "nbformat_minor": 4
}
