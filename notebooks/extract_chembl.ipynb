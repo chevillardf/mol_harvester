{
 "cells": [
  {
   "cell_type": "code",
   "execution_count": 6,
   "metadata": {},
   "outputs": [],
   "source": [
    "import requests\n",
    "import pandas as pd\n",
    "import json\n",
    "import os\n",
    "from tqdm.notebook import tqdm"
   ]
  },
  {
   "cell_type": "code",
   "execution_count": 15,
   "metadata": {},
   "outputs": [],
   "source": [
    "os.makedirs(\"../data/raw/\", exist_ok=True)"
   ]
  },
  {
   "cell_type": "code",
   "execution_count": 19,
   "metadata": {},
   "outputs": [],
   "source": [
    "def fetch_molecules_with_logp_and_docs(limit=1000, max_pages=None, verbose=True):\n",
    "    base_url = \"https://www.ebi.ac.uk\"\n",
    "    url = f\"{base_url}/chembl/api/data/molecule.json?logp__isnull=false&molecule_documents__isnull=false&limit={limit}\"\n",
    "    molecules = []\n",
    "\n",
    "    page = 0\n",
    "    while url and (max_pages is None or page < max_pages):\n",
    "        if verbose:\n",
    "            print(f\"Fetching page {page + 1}...\")\n",
    "        res = requests.get(url)\n",
    "        res.raise_for_status()\n",
    "        data = res.json()\n",
    "        molecules.extend(data['molecules'])\n",
    "\n",
    "        next_url = data['page_meta']['next']\n",
    "        url = f\"{base_url}{next_url}\" if next_url else None\n",
    "        page += 1\n",
    "\n",
    "    return molecules\n"
   ]
  },
  {
   "cell_type": "code",
   "execution_count": 20,
   "metadata": {},
   "outputs": [
    {
     "name": "stdout",
     "output_type": "stream",
     "text": [
      "Fetching page 1...\n",
      "Fetching page 2...\n",
      "Fetching page 3...\n",
      "Fetching page 4...\n",
      "Fetching page 5...\n",
      "Fetching page 6...\n",
      "Fetching page 7...\n",
      "Fetching page 8...\n",
      "Fetching page 9...\n",
      "Fetching page 10...\n",
      "Fetched 10000 molecules with logP.\n"
     ]
    }
   ],
   "source": [
    "# Fetch the first ~10,000 molecules with logP\n",
    "molecules = fetch_molecules_with_logp_and_docs(limit=200, max_pages=10)\n",
    "\n",
    "# Save raw data\n",
    "with open(\"../data/raw/chembl_logp_molecules.json\", \"w\") as f:\n",
    "    json.dump(molecules, f, indent=2)\n",
    "\n",
    "print(f\"Fetched {len(molecules)} molecules with logP.\")\n"
   ]
  },
  {
   "cell_type": "code",
   "execution_count": null,
   "metadata": {},
   "outputs": [],
   "source": [
    "# Function to fetch documents associated with a molecule\n",
    "def get_documents_for_molecule(chembl_id):\n",
    "    url = f\"https://www.ebi.ac.uk/chembl/api/data/document.json?molecule_chembl_id={chembl_id}\"\n",
    "    res = requests.get(url)\n",
    "    res.raise_for_status()\n",
    "    return res.json().get(\"documents\", [])\n",
    "\n",
    "# Add document IDs to each molecule\n",
    "doc_map = {}\n",
    "for mol in molecules:\n",
    "    chembl_id = mol.get(\"molecule_chembl_id\")\n",
    "    if chembl_id:\n",
    "        docs = get_documents_for_molecule(chembl_id)\n",
    "        doc_ids = [d[\"document_chembl_id\"] for d in docs]\n",
    "        doc_map[chembl_id] = doc_ids\n"
   ]
  },
  {
   "cell_type": "code",
   "execution_count": 22,
   "metadata": {},
   "outputs": [],
   "source": [
    "df = pd.DataFrame(molecules)"
   ]
  },
  {
   "cell_type": "code",
   "execution_count": 24,
   "metadata": {},
   "outputs": [
    {
     "data": {
      "text/plain": [
       "Index(['atc_classifications', 'availability_type', 'biotherapeutic',\n",
       "       'black_box_warning', 'chebi_par_id', 'chemical_probe', 'chirality',\n",
       "       'cross_references', 'dosed_ingredient', 'first_approval',\n",
       "       'first_in_class', 'helm_notation', 'indication_class', 'inorganic_flag',\n",
       "       'max_phase', 'molecule_chembl_id', 'molecule_hierarchy',\n",
       "       'molecule_properties', 'molecule_structures', 'molecule_synonyms',\n",
       "       'molecule_type', 'natural_product', 'oral', 'orphan', 'parenteral',\n",
       "       'polymer_flag', 'pref_name', 'prodrug', 'structure_type',\n",
       "       'therapeutic_flag', 'topical', 'usan_stem', 'usan_stem_definition',\n",
       "       'usan_substem', 'usan_year', 'withdrawn_flag'],\n",
       "      dtype='object')"
      ]
     },
     "execution_count": 24,
     "metadata": {},
     "output_type": "execute_result"
    }
   ],
   "source": [
    "df.columns"
   ]
  },
  {
   "cell_type": "code",
   "execution_count": null,
   "metadata": {},
   "outputs": [],
   "source": []
  }
 ],
 "metadata": {
  "kernelspec": {
   "display_name": "Python 3 (ipykernel)",
   "language": "python",
   "name": "python3"
  },
  "language_info": {
   "codemirror_mode": {
    "name": "ipython",
    "version": 3
   },
   "file_extension": ".py",
   "mimetype": "text/x-python",
   "name": "python",
   "nbconvert_exporter": "python",
   "pygments_lexer": "ipython3",
   "version": "3.10.16"
  }
 },
 "nbformat": 4,
 "nbformat_minor": 4
}
