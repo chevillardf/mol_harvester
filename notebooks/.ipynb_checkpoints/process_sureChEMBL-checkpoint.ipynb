{
 "cells": [
  {
   "cell_type": "code",
   "execution_count": 2,
   "id": "ad776c65-ddec-434a-93b9-fc4a41aad46b",
   "metadata": {},
   "outputs": [],
   "source": [
    "import requests\n",
    "import pandas as pd\n",
    "import json\n",
    "import os\n",
    "from pyspark.sql import SparkSession\n",
    "from pyspark.sql.functions import col, decode"
   ]
  },
  {
   "cell_type": "code",
   "execution_count": null,
   "id": "9ca12f74-891d-45e0-b5dd-92b344cde963",
   "metadata": {},
   "outputs": [],
   "source": [
    "# Start Spark session\n",
    "spark = SparkSession.builder \\\n",
    "    .appName(\"Explore SureChemBL\") \\\n",
    "    .getOrCreate()\n",
    "\n",
    "# Load Data\n",
    "df_mol = spark.read.parquet(\"../data/lake/compounds.parquet\")\n",
    "df_patent = spark.read.parquet(\"../data/lake/patent_compound_map.parquet\")\n",
    "df_fields = spark.read.parquet(\"../data/lake/fields.parquet\")\n",
    "df_map = spark.read.parquet(\"../data/lake/patent_compound_map.parquet\")"
   ]
  },
  {
   "cell_type": "code",
   "execution_count": 17,
   "id": "9a43a472-2359-4286-b301-d1720ac36d35",
   "metadata": {
    "scrolled": true
   },
   "outputs": [],
   "source": [
    "df = df_map\n",
    "df = df.join(df_mol, df.compound_id == df_mol.id, \"left\")\n",
    "df = df.join(df_fields, df.field_id == df_fields.id, \"left\")\n",
    "df = df.withColumn(\"smiles\", decode(col(\"rdk_smiles\"), \"UTF-8\"))"
   ]
  },
  {
   "cell_type": "code",
   "execution_count": null,
   "id": "1c1c7a43-24ec-4e49-9444-75e8b7820f46",
   "metadata": {},
   "outputs": [],
   "source": [
    "df.filter(col(\"fieldname\") == \"desc\").select(\"smiles\", \"mol_weight\", \"fieldname\").show(10, truncate=False)\n"
   ]
  },
  {
   "cell_type": "code",
   "execution_count": null,
   "id": "b2278668-2528-4286-b3b3-83479f06f303",
   "metadata": {},
   "outputs": [],
   "source": [
    "df_fields.show(5, truncate=False)"
   ]
  },
  {
   "cell_type": "code",
   "execution_count": null,
   "id": "bab328d2-0b28-42b4-a425-dbfe8bf4bb4d",
   "metadata": {},
   "outputs": [],
   "source": [
    "df_patent.show(5, truncate=False)"
   ]
  },
  {
   "cell_type": "code",
   "execution_count": null,
   "id": "56a2c7e0-a3c7-4f32-8383-704701819cfd",
   "metadata": {},
   "outputs": [],
   "source": [
    "df_with_smiles = df.withColumn(\"smiles\", decode(col(\"rdk_smiles\"), \"UTF-8\"))\n",
    "df_with_smiles.select(\"id\", \"smiles\", \"mol_weight\").show(5, truncate=False)"
   ]
  },
  {
   "cell_type": "code",
   "execution_count": 12,
   "id": "b5e5d643-e794-43d3-b5b5-6d5f579ec88f",
   "metadata": {},
   "outputs": [
    {
     "data": {
      "text/plain": [
       "Column<'rdk_smiles'>"
      ]
     },
     "execution_count": 12,
     "metadata": {},
     "output_type": "execute_result"
    }
   ],
   "source": [
    "df['rdk_smiles']"
   ]
  },
  {
   "cell_type": "code",
   "execution_count": null,
   "id": "49195223-032a-4cce-8b4c-2e9f84e3010c",
   "metadata": {},
   "outputs": [],
   "source": []
  }
 ],
 "metadata": {
  "kernelspec": {
   "display_name": "Python 3 (ipykernel)",
   "language": "python",
   "name": "python3"
  },
  "language_info": {
   "codemirror_mode": {
    "name": "ipython",
    "version": 3
   },
   "file_extension": ".py",
   "mimetype": "text/x-python",
   "name": "python",
   "nbconvert_exporter": "python",
   "pygments_lexer": "ipython3",
   "version": "3.11.13"
  }
 },
 "nbformat": 4,
 "nbformat_minor": 5
}
