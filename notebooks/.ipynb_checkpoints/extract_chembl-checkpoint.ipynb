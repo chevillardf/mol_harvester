{
 "cells": [
  {
   "cell_type": "code",
   "execution_count": 2,
   "metadata": {},
   "outputs": [],
   "source": [
    "import requests\n",
    "import pandas as pd\n",
    "import json\n",
    "import os"
   ]
  },
  {
   "cell_type": "code",
   "execution_count": 3,
   "metadata": {},
   "outputs": [],
   "source": [
    "os.makedirs(\"../data/raw/\", exist_ok=True)\n",
    "base_url = \"https://www.ebi.ac.uk\""
   ]
  },
  {
   "cell_type": "code",
   "execution_count": 4,
   "metadata": {},
   "outputs": [],
   "source": [
    "# Workflow: get logP +doc_id mols -> get docids from mols ids"
   ]
  },
  {
   "cell_type": "markdown",
   "metadata": {},
   "source": [
    "#### Get molecules w/ logP"
   ]
  },
  {
   "cell_type": "code",
   "execution_count": 7,
   "metadata": {},
   "outputs": [],
   "source": [
    "def fetch_molecules_with_logp_and_docs(limit=100, max_pages=None, verbose=True):\n",
    "    url = f\"{base_url}/chembl/api/data/molecule.json?logp__isnull=false&molecule_documents__isnull=false&limit={limit}\"\n",
    "    molecules = []\n",
    "    page = 0\n",
    "    \n",
    "    while url and (max_pages is None or page < max_pages):\n",
    "        if verbose:\n",
    "            print(f\"Fetching page {page + 1}...\")\n",
    "        res = requests.get(url)\n",
    "        res.raise_for_status()\n",
    "        data = res.json()\n",
    "        molecules.extend(data['molecules'])\n",
    "\n",
    "        next_url = data['page_meta']['next']\n",
    "        url = f\"{base_url}{next_url}\" if next_url else None\n",
    "        page += 1\n",
    "\n",
    "    return molecules\n",
    "\n",
    "def fetch_molecules_with_logp_and_patents(limit=100, max_pages=None, verbose=True):\n",
    "    base_url = \"https://www.ebi.ac.uk\"\n",
    "    url = f\"{base_url}/chembl/api/data/molecule.json?logp__isnull=false&molecule_patents__isnull=false&limit={limit}\"\n",
    "    molecules = []\n",
    "    page = 0\n",
    "\n",
    "    while url and (max_pages is None or page < max_pages):\n",
    "        if verbose:\n",
    "            print(f\"Fetching page {page + 1}...\")\n",
    "        res = requests.get(url)\n",
    "        res.raise_for_status()\n",
    "        data = res.json()\n",
    "        molecules.extend(data['molecules'])\n",
    "\n",
    "        next_url = data['page_meta'].get('next')\n",
    "        url = f\"{base_url}{next_url}\" if next_url else None\n",
    "        page += 1\n",
    "\n",
    "    return molecules"
   ]
  },
  {
   "cell_type": "code",
   "execution_count": 14,
   "metadata": {},
   "outputs": [
    {
     "name": "stdout",
     "output_type": "stream",
     "text": [
      "Fetching page 1...\n",
      "Fetched 100 molecules with logP.\n"
     ]
    }
   ],
   "source": [
    "molecules = fetch_molecules_with_logp_smiles_and_patents(limit=100, max_pages=1)\n",
    "\n",
    "# Save raw data\n",
    "with open(\"../data/raw/chembl_logp_molecules.json\", \"w\") as f:\n",
    "    json.dump(molecules, f, indent=2)\n",
    "\n",
    "print(f\"Fetched {len(molecules)} molecules with logP.\")"
   ]
  },
  {
   "cell_type": "code",
   "execution_count": null,
   "metadata": {},
   "outputs": [],
   "source": [
    "df = pd.DataFrame(molecules)\n",
    "df.columns"
   ]
  },
  {
   "cell_type": "code",
   "execution_count": null,
   "metadata": {},
   "outputs": [],
   "source": [
    "df = df[['molecule_structures', 'molecule_chembl_id', 'patent_ids']]"
   ]
  },
  {
   "cell_type": "code",
   "execution_count": null,
   "metadata": {},
   "outputs": [],
   "source": [
    "# Test API with a known molecule Chembl ID\n",
    "chembl_id = \"CHEMBL6329\"\n",
    "url = f\"https://www.ebi.ac.uk/chembl/api/data/document.json?molecule_chembl_id={chembl_id}\"\n",
    "res = requests.get(url)\n",
    "res.raise_for_status()\n",
    "data = res.json()\n",
    "documents = data.get(\"documents\", [])\n",
    "df = pd.DataFrame(documents)\n",
    "df.head()"
   ]
  },
  {
   "cell_type": "code",
   "execution_count": 22,
   "metadata": {},
   "outputs": [
    {
     "data": {
      "text/html": [
       "<div>\n",
       "<style scoped>\n",
       "    .dataframe tbody tr th:only-of-type {\n",
       "        vertical-align: middle;\n",
       "    }\n",
       "\n",
       "    .dataframe tbody tr th {\n",
       "        vertical-align: top;\n",
       "    }\n",
       "\n",
       "    .dataframe thead th {\n",
       "        text-align: right;\n",
       "    }\n",
       "</style>\n",
       "<table border=\"1\" class=\"dataframe\">\n",
       "  <thead>\n",
       "    <tr style=\"text-align: right;\">\n",
       "      <th></th>\n",
       "      <th>abstract</th>\n",
       "      <th>authors</th>\n",
       "      <th>chembl_release</th>\n",
       "      <th>contact</th>\n",
       "      <th>doc_type</th>\n",
       "      <th>document_chembl_id</th>\n",
       "      <th>doi</th>\n",
       "      <th>doi_chembl</th>\n",
       "      <th>first_page</th>\n",
       "      <th>issue</th>\n",
       "      <th>journal</th>\n",
       "      <th>journal_full_title</th>\n",
       "      <th>last_page</th>\n",
       "      <th>patent_id</th>\n",
       "      <th>pubmed_id</th>\n",
       "      <th>src_id</th>\n",
       "      <th>title</th>\n",
       "      <th>volume</th>\n",
       "      <th>year</th>\n",
       "    </tr>\n",
       "  </thead>\n",
       "  <tbody>\n",
       "    <tr>\n",
       "      <th>0</th>\n",
       "      <td></td>\n",
       "      <td>None</td>\n",
       "      <td>{'chembl_release': 'CHEMBL_7', 'creation_date'...</td>\n",
       "      <td>None</td>\n",
       "      <td>DATASET</td>\n",
       "      <td>CHEMBL1158643</td>\n",
       "      <td>None</td>\n",
       "      <td>None</td>\n",
       "      <td>None</td>\n",
       "      <td>None</td>\n",
       "      <td>None</td>\n",
       "      <td>None</td>\n",
       "      <td>None</td>\n",
       "      <td>None</td>\n",
       "      <td>NaN</td>\n",
       "      <td>0</td>\n",
       "      <td>Unpublished dataset</td>\n",
       "      <td>None</td>\n",
       "      <td>NaN</td>\n",
       "    </tr>\n",
       "    <tr>\n",
       "      <th>1</th>\n",
       "      <td></td>\n",
       "      <td>Clader JW.</td>\n",
       "      <td>{'chembl_release': 'CHEMBL_1', 'creation_date'...</td>\n",
       "      <td>None</td>\n",
       "      <td>PUBLICATION</td>\n",
       "      <td>CHEMBL1139451</td>\n",
       "      <td>10.1021/jm030283g</td>\n",
       "      <td>None</td>\n",
       "      <td>1</td>\n",
       "      <td>1</td>\n",
       "      <td>J Med Chem</td>\n",
       "      <td>Journal of medicinal chemistry.</td>\n",
       "      <td>9</td>\n",
       "      <td>None</td>\n",
       "      <td>14695813.0</td>\n",
       "      <td>1</td>\n",
       "      <td>The discovery of ezetimibe: a view from outsid...</td>\n",
       "      <td>47</td>\n",
       "      <td>2004.0</td>\n",
       "    </tr>\n",
       "    <tr>\n",
       "      <th>2</th>\n",
       "      <td>Okadaic acid (OA) is a toxin responsible for d...</td>\n",
       "      <td>Daranas AH, Fernández JJ, Morales EQ, Norte M,...</td>\n",
       "      <td>{'chembl_release': 'CHEMBL_1', 'creation_date'...</td>\n",
       "      <td>None</td>\n",
       "      <td>PUBLICATION</td>\n",
       "      <td>CHEMBL1148466</td>\n",
       "      <td>10.1021/jm034189b</td>\n",
       "      <td>None</td>\n",
       "      <td>10</td>\n",
       "      <td>1</td>\n",
       "      <td>J Med Chem</td>\n",
       "      <td>Journal of medicinal chemistry.</td>\n",
       "      <td>13</td>\n",
       "      <td>None</td>\n",
       "      <td>14695814.0</td>\n",
       "      <td>1</td>\n",
       "      <td>Self-association of okadaic acid upon complexa...</td>\n",
       "      <td>47</td>\n",
       "      <td>2004.0</td>\n",
       "    </tr>\n",
       "    <tr>\n",
       "      <th>3</th>\n",
       "      <td>A variety of novel heterocyclic compounds havi...</td>\n",
       "      <td>Cho H, Murakami K, Nakanishi H, Fujisawa A, Is...</td>\n",
       "      <td>{'chembl_release': 'CHEMBL_1', 'creation_date'...</td>\n",
       "      <td>None</td>\n",
       "      <td>PUBLICATION</td>\n",
       "      <td>CHEMBL1139452</td>\n",
       "      <td>10.1021/jm030287l</td>\n",
       "      <td>None</td>\n",
       "      <td>101</td>\n",
       "      <td>1</td>\n",
       "      <td>J Med Chem</td>\n",
       "      <td>Journal of medicinal chemistry.</td>\n",
       "      <td>109</td>\n",
       "      <td>None</td>\n",
       "      <td>14695824.0</td>\n",
       "      <td>1</td>\n",
       "      <td>Synthesis and structure-activity relationships...</td>\n",
       "      <td>47</td>\n",
       "      <td>2004.0</td>\n",
       "    </tr>\n",
       "    <tr>\n",
       "      <th>4</th>\n",
       "      <td>The hemoglobin-degrading aspartic proteases pl...</td>\n",
       "      <td>Ersmark K, Feierberg I, Bjelic S, Hamelink E, ...</td>\n",
       "      <td>{'chembl_release': 'CHEMBL_1', 'creation_date'...</td>\n",
       "      <td>None</td>\n",
       "      <td>PUBLICATION</td>\n",
       "      <td>CHEMBL1139453</td>\n",
       "      <td>10.1021/jm030933g</td>\n",
       "      <td>None</td>\n",
       "      <td>110</td>\n",
       "      <td>1</td>\n",
       "      <td>J Med Chem</td>\n",
       "      <td>Journal of medicinal chemistry.</td>\n",
       "      <td>122</td>\n",
       "      <td>None</td>\n",
       "      <td>14695825.0</td>\n",
       "      <td>1</td>\n",
       "      <td>Potent inhibitors of the Plasmodium falciparum...</td>\n",
       "      <td>47</td>\n",
       "      <td>2004.0</td>\n",
       "    </tr>\n",
       "  </tbody>\n",
       "</table>\n",
       "</div>"
      ],
      "text/plain": [
       "                                            abstract  \\\n",
       "0                                                      \n",
       "1                                                      \n",
       "2  Okadaic acid (OA) is a toxin responsible for d...   \n",
       "3  A variety of novel heterocyclic compounds havi...   \n",
       "4  The hemoglobin-degrading aspartic proteases pl...   \n",
       "\n",
       "                                             authors  \\\n",
       "0                                               None   \n",
       "1                                         Clader JW.   \n",
       "2  Daranas AH, Fernández JJ, Morales EQ, Norte M,...   \n",
       "3  Cho H, Murakami K, Nakanishi H, Fujisawa A, Is...   \n",
       "4  Ersmark K, Feierberg I, Bjelic S, Hamelink E, ...   \n",
       "\n",
       "                                      chembl_release contact     doc_type  \\\n",
       "0  {'chembl_release': 'CHEMBL_7', 'creation_date'...    None      DATASET   \n",
       "1  {'chembl_release': 'CHEMBL_1', 'creation_date'...    None  PUBLICATION   \n",
       "2  {'chembl_release': 'CHEMBL_1', 'creation_date'...    None  PUBLICATION   \n",
       "3  {'chembl_release': 'CHEMBL_1', 'creation_date'...    None  PUBLICATION   \n",
       "4  {'chembl_release': 'CHEMBL_1', 'creation_date'...    None  PUBLICATION   \n",
       "\n",
       "  document_chembl_id                doi doi_chembl first_page issue  \\\n",
       "0      CHEMBL1158643               None       None       None  None   \n",
       "1      CHEMBL1139451  10.1021/jm030283g       None          1     1   \n",
       "2      CHEMBL1148466  10.1021/jm034189b       None         10     1   \n",
       "3      CHEMBL1139452  10.1021/jm030287l       None        101     1   \n",
       "4      CHEMBL1139453  10.1021/jm030933g       None        110     1   \n",
       "\n",
       "      journal               journal_full_title last_page patent_id  \\\n",
       "0        None                             None      None      None   \n",
       "1  J Med Chem  Journal of medicinal chemistry.         9      None   \n",
       "2  J Med Chem  Journal of medicinal chemistry.        13      None   \n",
       "3  J Med Chem  Journal of medicinal chemistry.       109      None   \n",
       "4  J Med Chem  Journal of medicinal chemistry.       122      None   \n",
       "\n",
       "    pubmed_id  src_id                                              title  \\\n",
       "0         NaN       0                                Unpublished dataset   \n",
       "1  14695813.0       1  The discovery of ezetimibe: a view from outsid...   \n",
       "2  14695814.0       1  Self-association of okadaic acid upon complexa...   \n",
       "3  14695824.0       1  Synthesis and structure-activity relationships...   \n",
       "4  14695825.0       1  Potent inhibitors of the Plasmodium falciparum...   \n",
       "\n",
       "  volume    year  \n",
       "0   None     NaN  \n",
       "1     47  2004.0  \n",
       "2     47  2004.0  \n",
       "3     47  2004.0  \n",
       "4     47  2004.0  "
      ]
     },
     "execution_count": 22,
     "metadata": {},
     "output_type": "execute_result"
    }
   ],
   "source": []
  },
  {
   "cell_type": "markdown",
   "metadata": {},
   "source": [
    "#### Get document_id for subset"
   ]
  },
  {
   "cell_type": "code",
   "execution_count": 21,
   "metadata": {},
   "outputs": [],
   "source": [
    "# Function to fetch documents associated with a molecule\n",
    "def get_documents_for_molecule(chembl_id):\n",
    "    url = f\"https://www.ebi.ac.uk/chembl/api/data/document.json?molecule_chembl_id={chembl_id}\"\n",
    "    res = requests.get(url)\n",
    "    res.raise_for_status()\n",
    "    return res.json().get(\"documents\", [])"
   ]
  },
  {
   "cell_type": "code",
   "execution_count": null,
   "metadata": {},
   "outputs": [],
   "source": [
    "chembl_id = \"CHEMBL25\"\n",
    "documents = get_documents_for_molecule(chembl_id)\n",
    "documents"
   ]
  },
  {
   "cell_type": "code",
   "execution_count": 24,
   "metadata": {},
   "outputs": [],
   "source": [
    "# Add document IDs to each molecule\n",
    "def fetch_documents_for_molecules(molecules):\n",
    "    doc_map = {}\n",
    "    for mol in molecules:\n",
    "        chembl_id = mol.get(\"molecule_chembl_id\")\n",
    "        if chembl_id:\n",
    "            docs = get_documents_for_molecule(chembl_id)\n",
    "            doc_ids = [d[\"document_chembl_id\"] for d in docs]\n",
    "            doc_map[chembl_id] = doc_ids\n",
    "    return doc_map"
   ]
  },
  {
   "cell_type": "code",
   "execution_count": 25,
   "metadata": {},
   "outputs": [],
   "source": [
    "doc_map = fetch_documents_for_molecules(molecules)"
   ]
  },
  {
   "cell_type": "code",
   "execution_count": null,
   "metadata": {},
   "outputs": [],
   "source": [
    "doc_map"
   ]
  },
  {
   "cell_type": "code",
   "execution_count": 27,
   "metadata": {},
   "outputs": [],
   "source": [
    "df = pd.DataFrame(molecules)"
   ]
  },
  {
   "cell_type": "code",
   "execution_count": 28,
   "metadata": {},
   "outputs": [],
   "source": [
    "df[\"logP\"] = df[\"molecule_properties\"].apply(\n",
    "    lambda x: x.get(\"alogp\") if isinstance(x, dict) else None\n",
    ")"
   ]
  },
  {
   "cell_type": "code",
   "execution_count": null,
   "metadata": {},
   "outputs": [],
   "source": [
    "df[\"document_ids\"] = df[\"molecule_chembl_id\"].map(doc_map)\n",
    "\n",
    "# Show merged DataFrame\n",
    "df_merged = df[[\"molecule_chembl_id\", \"logP\", \"document_ids\"]]\n",
    "print(df_merged.head())"
   ]
  },
  {
   "cell_type": "markdown",
   "metadata": {},
   "source": [
    "#### Get molecules from document_id"
   ]
  },
  {
   "cell_type": "code",
   "execution_count": 31,
   "metadata": {},
   "outputs": [],
   "source": [
    "def get_molecules_for_document(document_id):\n",
    "    url = f\"https://www.ebi.ac.uk/chembl/api/data/molecule_document.json?document_chembl_id={document_id}\"\n",
    "    res = requests.get(url)\n",
    "    res.raise_for_status()\n",
    "    return res.json().get(\"molecule_documents\", [])"
   ]
  },
  {
   "cell_type": "code",
   "execution_count": null,
   "metadata": {},
   "outputs": [],
   "source": [
    "# Example: Get molecules associated with a document\n",
    "document_id = \"CHEMBL1158643\"\n",
    "molecule_docs = get_molecules_for_document(document_id)\n",
    "\n",
    "# Print out the molecule ChEMBL IDs\n",
    "molecule_ids = [doc[\"molecule_chembl_id\"] for doc in molecule_docs]\n",
    "print(f\"Molecule ChEMBL IDs for document {document_id}: {molecule_ids}\")"
   ]
  },
  {
   "cell_type": "markdown",
   "metadata": {},
   "source": [
    "#### Deprecated"
   ]
  },
  {
   "cell_type": "code",
   "execution_count": 17,
   "metadata": {},
   "outputs": [],
   "source": [
    "def fetch_molecules_with_logp_smiles_and_patents(limit=100, max_pages=None, verbose=True):\n",
    "    base_url = \"https://www.ebi.ac.uk\"\n",
    "    url = f\"{base_url}/chembl/api/data/molecule.json?logp__isnull=false&molecule_patents__isnull=false&limit={limit}\"\n",
    "    molecules = []\n",
    "    page = 0\n",
    "\n",
    "    while url and (max_pages is None or page < max_pages):\n",
    "        if verbose:\n",
    "            print(f\"Fetching page {page + 1}...\")\n",
    "        res = requests.get(url)\n",
    "        res.raise_for_status()\n",
    "        data = res.json()\n",
    "        molecules.extend(data['molecules'])\n",
    "\n",
    "        next_url = data['page_meta'].get('next')\n",
    "        url = f\"{base_url}{next_url}\" if next_url else None\n",
    "        page += 1\n",
    "\n",
    "    # Fetch SMILES and Patent IDs for each molecule\n",
    "    molecules_with_smiles_and_patents = []\n",
    "    for molecule in molecules:\n",
    "        patent_ids = []\n",
    "        smiles = None\n",
    "        \n",
    "        # Get SMILES from molecule_structures\n",
    "        if 'molecule_structures' in molecule:\n",
    "            smiles = molecule['molecule_structures'].get('canonical_smiles', None)\n",
    "        \n",
    "        # Get patent IDs from molecule_patents\n",
    "        if 'molecule_patents' in molecule:\n",
    "            patent_ids = [patent['patent_chembl_id'] for patent in molecule['molecule_patents']]\n",
    "        \n",
    "        # Add SMILES and patent IDs to molecule data\n",
    "        molecule['smiles'] = smiles\n",
    "        molecule['patent_ids'] = patent_ids\n",
    "        molecules_with_smiles_and_patents.append(molecule)\n",
    "\n",
    "    return molecules_with_smiles_and_patents"
   ]
  },
  {
   "cell_type": "code",
   "execution_count": null,
   "metadata": {},
   "outputs": [],
   "source": []
  }
 ],
 "metadata": {
  "kernelspec": {
   "display_name": "Python 3 (ipykernel)",
   "language": "python",
   "name": "python3"
  },
  "language_info": {
   "codemirror_mode": {
    "name": "ipython",
    "version": 3
   },
   "file_extension": ".py",
   "mimetype": "text/x-python",
   "name": "python",
   "nbconvert_exporter": "python",
   "pygments_lexer": "ipython3",
   "version": "3.10.17"
  }
 },
 "nbformat": 4,
 "nbformat_minor": 4
}
