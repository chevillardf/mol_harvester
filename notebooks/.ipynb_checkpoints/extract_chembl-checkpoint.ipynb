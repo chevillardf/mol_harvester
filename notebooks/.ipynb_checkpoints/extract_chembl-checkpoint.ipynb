{
 "cells": [
  {
   "cell_type": "code",
   "execution_count": 10,
   "metadata": {},
   "outputs": [],
   "source": [
    "import requests\n",
    "import pandas as pd\n",
    "import json\n",
    "import os\n",
    "import re\n",
    "\n",
    "from chembl_webresource_client.new_client import new_client"
   ]
  },
  {
   "cell_type": "code",
   "execution_count": null,
   "metadata": {},
   "outputs": [],
   "source": [
    "# Initialize clients\n",
    "activity = new_client.activity\n",
    "assay = new_client.assay"
   ]
  },
  {
   "cell_type": "code",
   "execution_count": null,
   "metadata": {},
   "outputs": [],
   "source": [
    "# Option 1: Search for assays containing HLM in their description\n",
    "hlm_assays = assay.filter(assay_description__icontains='HLM').only('assay_chembl_id')\n",
    "hlm_activities = activity.filter(assay_chembl_id__in=[a['assay_chembl_id'] for a in hlm_assays])\n",
    "hlm_activities"
   ]
  },
  {
   "cell_type": "code",
   "execution_count": null,
   "metadata": {},
   "outputs": [],
   "source": [
    "# Option 2: More specific filter for common HLM measurements\n",
    "# (choose either Option 1 or 2 based on your needs)\n",
    "hlm_activities = activity.filter(\n",
    "    assay_description__icontains='HLM').filter(\n",
    "    standard_type__in=['CL', 'T1/2', 'HLM_CL', 'HLM_clearance']  # common HLM measurement types\n",
    ")"
   ]
  },
  {
   "cell_type": "code",
   "execution_count": null,
   "metadata": {},
   "outputs": [],
   "source": [
    "# To get the molecules with HLM data (like your hERG example)\n",
    "molecule = new_client.molecule\n",
    "hlm_molecules = molecule.filter(\n",
    "    molecule_chembl_id__in=list(set([act['molecule_chembl_id'] for act in hlm_activities]))\n",
    ")\n",
    "\n",
    "print(f\"Found {len(hlm_activities)} HLM activities\")\n",
    "print(f\"Found {len(hlm_molecules)} unique molecules with HLM data\")\n",
    "\n",
    "# You can then work with hlm_activities or hlm_molecules as needed"
   ]
  },
  {
   "cell_type": "markdown",
   "metadata": {},
   "source": [
    "#### Extract hLM"
   ]
  },
  {
   "cell_type": "code",
   "execution_count": 15,
   "metadata": {},
   "outputs": [],
   "source": [
    "assay = new_client.assay\n",
    "activity = new_client.activity\n",
    "molecule = new_client.molecule"
   ]
  },
  {
   "cell_type": "code",
   "execution_count": 61,
   "metadata": {},
   "outputs": [],
   "source": [
    "assays = assay.filter(assay_type='A').only(['assay_type', 'description', 'assay_chembl_id', 'assay_organism'])[:10000]\n",
    "df = pd.DataFrame(assays)"
   ]
  },
  {
   "cell_type": "code",
   "execution_count": 62,
   "metadata": {},
   "outputs": [
    {
     "name": "stderr",
     "output_type": "stream",
     "text": [
      "/tmp/ipykernel_146621/1315703121.py:4: UserWarning: This pattern is interpreted as a regular expression, and has match groups. To actually get the groups, use str.extract.\n",
      "  hlm_df = df[df['description'].str.contains(pattern, na=False)]\n"
     ]
    }
   ],
   "source": [
    "# Define regex pattern for HLM-related terms\n",
    "pattern = r'(?i)\\b(CL|microsome|HLM_CL|HLM_clearance|HLM_half_life|HLM_stability)\\b'\n",
    "\n",
    "hlm_df = df[df['description'].str.contains(pattern, na=False)]"
   ]
  },
  {
   "cell_type": "code",
   "execution_count": 63,
   "metadata": {},
   "outputs": [],
   "source": [
    "# Get all activities for these HLM assays\n",
    "hlm_assay_ids = hlm_df['assay_chembl_id'].tolist()\n",
    "activities = activity.filter(\n",
    "    assay_chembl_id__in=hlm_assay_ids\n",
    ").only([\n",
    "    'molecule_chembl_id',\n",
    "    'assay_chembl_id',\n",
    "    'standard_value',  # The actual measurement value\n",
    "    'standard_units',  # Units of measurement\n",
    "    'standard_type',   # Type of measurement (CL, T1/2, etc.)\n",
    "    'standard_relation',  # Relation to value (=, <, >, etc.)\n",
    "    'document_chembl_id'\n",
    "])\n",
    "activities_df = pd.DataFrame(activities)\n",
    "unique_molecule_ids = activities_df['molecule_chembl_id'].unique().tolist()"
   ]
  },
  {
   "cell_type": "code",
   "execution_count": 64,
   "metadata": {},
   "outputs": [],
   "source": [
    "batch_size = 100\n",
    "molecules = []\n",
    "for i in range(0, len(unique_molecule_ids), batch_size):\n",
    "    batch = unique_molecule_ids[i:i+batch_size]\n",
    "    molecules.extend(molecule.filter(molecule_chembl_id__in=batch))\n",
    "\n",
    "mols_df = pd.DataFrame(molecules)"
   ]
  },
  {
   "cell_type": "code",
   "execution_count": 65,
   "metadata": {},
   "outputs": [],
   "source": [
    "full_data = pd.merge(activities_df, mols_df, on='molecule_chembl_id', how='left')\n",
    "full_data = pd.merge(full_data, hlm_df, on='assay_chembl_id', how='left')\n",
    "full_data = full_data[['assay_chembl_id', 'document_chembl_id', 'molecule_chembl_id', 'relation', 'standard_relation', 'standard_type', \n",
    "                       'standard_units', 'standard_value', 'type', 'units', 'value', 'assay_organism', 'molecule_structures', 'description']]"
   ]
  },
  {
   "cell_type": "code",
   "execution_count": 66,
   "metadata": {},
   "outputs": [
    {
     "data": {
      "text/html": [
       "<div>\n",
       "<style scoped>\n",
       "    .dataframe tbody tr th:only-of-type {\n",
       "        vertical-align: middle;\n",
       "    }\n",
       "\n",
       "    .dataframe tbody tr th {\n",
       "        vertical-align: top;\n",
       "    }\n",
       "\n",
       "    .dataframe thead th {\n",
       "        text-align: right;\n",
       "    }\n",
       "</style>\n",
       "<table border=\"1\" class=\"dataframe\">\n",
       "  <thead>\n",
       "    <tr style=\"text-align: right;\">\n",
       "      <th></th>\n",
       "      <th>assay_chembl_id</th>\n",
       "      <th>document_chembl_id</th>\n",
       "      <th>molecule_chembl_id</th>\n",
       "      <th>relation</th>\n",
       "      <th>standard_relation</th>\n",
       "      <th>standard_type</th>\n",
       "      <th>standard_units</th>\n",
       "      <th>standard_value</th>\n",
       "      <th>type</th>\n",
       "      <th>units</th>\n",
       "      <th>value</th>\n",
       "      <th>assay_organism</th>\n",
       "      <th>molecule_structures</th>\n",
       "      <th>description</th>\n",
       "    </tr>\n",
       "  </thead>\n",
       "  <tbody>\n",
       "    <tr>\n",
       "      <th>0</th>\n",
       "      <td>CHEMBL618990</td>\n",
       "      <td>CHEMBL1136138</td>\n",
       "      <td>CHEMBL3706623</td>\n",
       "      <td>=</td>\n",
       "      <td>=</td>\n",
       "      <td>CL</td>\n",
       "      <td>mL.min-1.kg-1</td>\n",
       "      <td>233.0</td>\n",
       "      <td>CLint</td>\n",
       "      <td>ml min-1 kg-1</td>\n",
       "      <td>233.0</td>\n",
       "      <td>Homo sapiens</td>\n",
       "      <td>{'canonical_smiles': 'O=C(N[C@H]1c2ccccc2OC[C@...</td>\n",
       "      <td>In vitro intrinsic clearance in human liver mi...</td>\n",
       "    </tr>\n",
       "    <tr>\n",
       "      <th>1</th>\n",
       "      <td>CHEMBL621792</td>\n",
       "      <td>CHEMBL1136031</td>\n",
       "      <td>CHEMBL327772</td>\n",
       "      <td>=</td>\n",
       "      <td>=</td>\n",
       "      <td>CL</td>\n",
       "      <td>mL.min-1.g-1</td>\n",
       "      <td>185.0</td>\n",
       "      <td>Cl</td>\n",
       "      <td>ul min-1 mg-1</td>\n",
       "      <td>185.0</td>\n",
       "      <td>Rattus norvegicus</td>\n",
       "      <td>{'canonical_smiles': 'CCCOc1ccc(S(=O)(=O)N2CCN...</td>\n",
       "      <td>In vitro microsome metabolism clearance in rat...</td>\n",
       "    </tr>\n",
       "    <tr>\n",
       "      <th>2</th>\n",
       "      <td>CHEMBL876725</td>\n",
       "      <td>CHEMBL1136031</td>\n",
       "      <td>CHEMBL327772</td>\n",
       "      <td>=</td>\n",
       "      <td>=</td>\n",
       "      <td>CL</td>\n",
       "      <td>mL.min-1.g-1</td>\n",
       "      <td>71.0</td>\n",
       "      <td>Cl</td>\n",
       "      <td>ul min-1 mg-1</td>\n",
       "      <td>71.0</td>\n",
       "      <td>Homo sapiens</td>\n",
       "      <td>{'canonical_smiles': 'CCCOc1ccc(S(=O)(=O)N2CCN...</td>\n",
       "      <td>In vitro microsome metabolism clearance in hum...</td>\n",
       "    </tr>\n",
       "    <tr>\n",
       "      <th>3</th>\n",
       "      <td>CHEMBL618990</td>\n",
       "      <td>CHEMBL1136138</td>\n",
       "      <td>CHEMBL5483011</td>\n",
       "      <td>=</td>\n",
       "      <td>=</td>\n",
       "      <td>CL</td>\n",
       "      <td>mL.min-1.kg-1</td>\n",
       "      <td>50.0</td>\n",
       "      <td>CLint</td>\n",
       "      <td>ml min-1 kg-1</td>\n",
       "      <td>50.0</td>\n",
       "      <td>Homo sapiens</td>\n",
       "      <td>{'canonical_smiles': 'CC(C)(C)NC(=O)[C@@H]1CN(...</td>\n",
       "      <td>In vitro intrinsic clearance in human liver mi...</td>\n",
       "    </tr>\n",
       "    <tr>\n",
       "      <th>4</th>\n",
       "      <td>CHEMBL618990</td>\n",
       "      <td>CHEMBL1136138</td>\n",
       "      <td>CHEMBL3706619</td>\n",
       "      <td>=</td>\n",
       "      <td>=</td>\n",
       "      <td>CL</td>\n",
       "      <td>mL.min-1.kg-1</td>\n",
       "      <td>655.0</td>\n",
       "      <td>CLint</td>\n",
       "      <td>ml min-1 kg-1</td>\n",
       "      <td>655.0</td>\n",
       "      <td>Homo sapiens</td>\n",
       "      <td>{'canonical_smiles': 'O=C(N[C@H]1c2ccccc2OC[C@...</td>\n",
       "      <td>In vitro intrinsic clearance in human liver mi...</td>\n",
       "    </tr>\n",
       "    <tr>\n",
       "      <th>...</th>\n",
       "      <td>...</td>\n",
       "      <td>...</td>\n",
       "      <td>...</td>\n",
       "      <td>...</td>\n",
       "      <td>...</td>\n",
       "      <td>...</td>\n",
       "      <td>...</td>\n",
       "      <td>...</td>\n",
       "      <td>...</td>\n",
       "      <td>...</td>\n",
       "      <td>...</td>\n",
       "      <td>...</td>\n",
       "      <td>...</td>\n",
       "      <td>...</td>\n",
       "    </tr>\n",
       "    <tr>\n",
       "      <th>138</th>\n",
       "      <td>CHEMBL626625</td>\n",
       "      <td>CHEMBL1131061</td>\n",
       "      <td>CHEMBL42039</td>\n",
       "      <td>=</td>\n",
       "      <td>=</td>\n",
       "      <td>CL</td>\n",
       "      <td>mL.min-1.kg-1</td>\n",
       "      <td>35.0</td>\n",
       "      <td>Cl</td>\n",
       "      <td>ml min-1 kg-1</td>\n",
       "      <td>35.0</td>\n",
       "      <td>Rattus norvegicus</td>\n",
       "      <td>{'canonical_smiles': 'CCNC(=O)COc1ccc(Cl)cc1CN...</td>\n",
       "      <td>Pharmacokinetic parameter Cl calculated in rat...</td>\n",
       "    </tr>\n",
       "    <tr>\n",
       "      <th>139</th>\n",
       "      <td>CHEMBL626624</td>\n",
       "      <td>CHEMBL1131061</td>\n",
       "      <td>CHEMBL42039</td>\n",
       "      <td>=</td>\n",
       "      <td>=</td>\n",
       "      <td>CL</td>\n",
       "      <td>mL.min-1.kg-1</td>\n",
       "      <td>14.0</td>\n",
       "      <td>Cl</td>\n",
       "      <td>ml min-1 kg-1</td>\n",
       "      <td>14.0</td>\n",
       "      <td>Canis lupus familiaris</td>\n",
       "      <td>{'canonical_smiles': 'CCNC(=O)COc1ccc(Cl)cc1CN...</td>\n",
       "      <td>Pharmacokinetic parameter Cl calculated in dog...</td>\n",
       "    </tr>\n",
       "    <tr>\n",
       "      <th>140</th>\n",
       "      <td>CHEMBL626622</td>\n",
       "      <td>CHEMBL1131061</td>\n",
       "      <td>CHEMBL42039</td>\n",
       "      <td>=</td>\n",
       "      <td>=</td>\n",
       "      <td>CL</td>\n",
       "      <td>mL.min-1.kg-1</td>\n",
       "      <td>29.0</td>\n",
       "      <td>Cl</td>\n",
       "      <td>ml min-1 kg-1</td>\n",
       "      <td>29.0</td>\n",
       "      <td>Macaca fascicularis</td>\n",
       "      <td>{'canonical_smiles': 'CCNC(=O)COc1ccc(Cl)cc1CN...</td>\n",
       "      <td>Pharmacokinetic parameter Cl calculated in cyn...</td>\n",
       "    </tr>\n",
       "    <tr>\n",
       "      <th>141</th>\n",
       "      <td>CHEMBL626623</td>\n",
       "      <td>CHEMBL1131061</td>\n",
       "      <td>CHEMBL108202</td>\n",
       "      <td>=</td>\n",
       "      <td>=</td>\n",
       "      <td>CL</td>\n",
       "      <td>mL.min-1.kg-1</td>\n",
       "      <td>0.00004</td>\n",
       "      <td>Cl</td>\n",
       "      <td>nl min-1 kg-1</td>\n",
       "      <td>40.0</td>\n",
       "      <td>Macaca fascicularis</td>\n",
       "      <td>{'canonical_smiles': 'N[C@@H](C(=O)N1CCC[C@H]1...</td>\n",
       "      <td>Pharmacokinetic parameter Cl calculated in cyn...</td>\n",
       "    </tr>\n",
       "    <tr>\n",
       "      <th>142</th>\n",
       "      <td>CHEMBL623700</td>\n",
       "      <td>CHEMBL1133563</td>\n",
       "      <td>CHEMBL344999</td>\n",
       "      <td>=</td>\n",
       "      <td>=</td>\n",
       "      <td>CL</td>\n",
       "      <td>mL.min-1.kg-1</td>\n",
       "      <td>30.0</td>\n",
       "      <td>CL</td>\n",
       "      <td>ml min-1 kg-1</td>\n",
       "      <td>30.0</td>\n",
       "      <td>Rattus norvegicus</td>\n",
       "      <td>{'canonical_smiles': 'CCCCOc1ccc(S(=O)(=O)N2C[...</td>\n",
       "      <td>Mean (%CV) PK parameters for CL(mL/min/kg).</td>\n",
       "    </tr>\n",
       "  </tbody>\n",
       "</table>\n",
       "<p>143 rows × 14 columns</p>\n",
       "</div>"
      ],
      "text/plain": [
       "    assay_chembl_id document_chembl_id molecule_chembl_id relation  \\\n",
       "0      CHEMBL618990      CHEMBL1136138      CHEMBL3706623        =   \n",
       "1      CHEMBL621792      CHEMBL1136031       CHEMBL327772        =   \n",
       "2      CHEMBL876725      CHEMBL1136031       CHEMBL327772        =   \n",
       "3      CHEMBL618990      CHEMBL1136138      CHEMBL5483011        =   \n",
       "4      CHEMBL618990      CHEMBL1136138      CHEMBL3706619        =   \n",
       "..              ...                ...                ...      ...   \n",
       "138    CHEMBL626625      CHEMBL1131061        CHEMBL42039        =   \n",
       "139    CHEMBL626624      CHEMBL1131061        CHEMBL42039        =   \n",
       "140    CHEMBL626622      CHEMBL1131061        CHEMBL42039        =   \n",
       "141    CHEMBL626623      CHEMBL1131061       CHEMBL108202        =   \n",
       "142    CHEMBL623700      CHEMBL1133563       CHEMBL344999        =   \n",
       "\n",
       "    standard_relation standard_type standard_units standard_value   type  \\\n",
       "0                   =            CL  mL.min-1.kg-1          233.0  CLint   \n",
       "1                   =            CL   mL.min-1.g-1          185.0     Cl   \n",
       "2                   =            CL   mL.min-1.g-1           71.0     Cl   \n",
       "3                   =            CL  mL.min-1.kg-1           50.0  CLint   \n",
       "4                   =            CL  mL.min-1.kg-1          655.0  CLint   \n",
       "..                ...           ...            ...            ...    ...   \n",
       "138                 =            CL  mL.min-1.kg-1           35.0     Cl   \n",
       "139                 =            CL  mL.min-1.kg-1           14.0     Cl   \n",
       "140                 =            CL  mL.min-1.kg-1           29.0     Cl   \n",
       "141                 =            CL  mL.min-1.kg-1        0.00004     Cl   \n",
       "142                 =            CL  mL.min-1.kg-1           30.0     CL   \n",
       "\n",
       "             units  value          assay_organism  \\\n",
       "0    ml min-1 kg-1  233.0            Homo sapiens   \n",
       "1    ul min-1 mg-1  185.0       Rattus norvegicus   \n",
       "2    ul min-1 mg-1   71.0            Homo sapiens   \n",
       "3    ml min-1 kg-1   50.0            Homo sapiens   \n",
       "4    ml min-1 kg-1  655.0            Homo sapiens   \n",
       "..             ...    ...                     ...   \n",
       "138  ml min-1 kg-1   35.0       Rattus norvegicus   \n",
       "139  ml min-1 kg-1   14.0  Canis lupus familiaris   \n",
       "140  ml min-1 kg-1   29.0     Macaca fascicularis   \n",
       "141  nl min-1 kg-1   40.0     Macaca fascicularis   \n",
       "142  ml min-1 kg-1   30.0       Rattus norvegicus   \n",
       "\n",
       "                                   molecule_structures  \\\n",
       "0    {'canonical_smiles': 'O=C(N[C@H]1c2ccccc2OC[C@...   \n",
       "1    {'canonical_smiles': 'CCCOc1ccc(S(=O)(=O)N2CCN...   \n",
       "2    {'canonical_smiles': 'CCCOc1ccc(S(=O)(=O)N2CCN...   \n",
       "3    {'canonical_smiles': 'CC(C)(C)NC(=O)[C@@H]1CN(...   \n",
       "4    {'canonical_smiles': 'O=C(N[C@H]1c2ccccc2OC[C@...   \n",
       "..                                                 ...   \n",
       "138  {'canonical_smiles': 'CCNC(=O)COc1ccc(Cl)cc1CN...   \n",
       "139  {'canonical_smiles': 'CCNC(=O)COc1ccc(Cl)cc1CN...   \n",
       "140  {'canonical_smiles': 'CCNC(=O)COc1ccc(Cl)cc1CN...   \n",
       "141  {'canonical_smiles': 'N[C@@H](C(=O)N1CCC[C@H]1...   \n",
       "142  {'canonical_smiles': 'CCCCOc1ccc(S(=O)(=O)N2C[...   \n",
       "\n",
       "                                           description  \n",
       "0    In vitro intrinsic clearance in human liver mi...  \n",
       "1    In vitro microsome metabolism clearance in rat...  \n",
       "2    In vitro microsome metabolism clearance in hum...  \n",
       "3    In vitro intrinsic clearance in human liver mi...  \n",
       "4    In vitro intrinsic clearance in human liver mi...  \n",
       "..                                                 ...  \n",
       "138  Pharmacokinetic parameter Cl calculated in rat...  \n",
       "139  Pharmacokinetic parameter Cl calculated in dog...  \n",
       "140  Pharmacokinetic parameter Cl calculated in cyn...  \n",
       "141  Pharmacokinetic parameter Cl calculated in cyn...  \n",
       "142        Mean (%CV) PK parameters for CL(mL/min/kg).  \n",
       "\n",
       "[143 rows x 14 columns]"
      ]
     },
     "execution_count": 66,
     "metadata": {},
     "output_type": "execute_result"
    }
   ],
   "source": [
    "full_data"
   ]
  },
  {
   "cell_type": "markdown",
   "metadata": {
    "jp-MarkdownHeadingCollapsed": true
   },
   "source": [
    "#### Extract hERG"
   ]
  },
  {
   "cell_type": "code",
   "execution_count": null,
   "metadata": {},
   "outputs": [],
   "source": [
    "from chembl_webresource_client.new_client import new_client\n",
    "\n",
    "target = new_client.target\n",
    "activity = new_client.activity\n",
    "herg = target.filter(pref_name__iexact='hERG').only('target_chembl_id')[0]\n",
    "herg_activities = activity.filter(target_chembl_id=herg['target_chembl_id']).filter(standard_type=\"IC50\")\n",
    "\n",
    "herg_activities"
   ]
  },
  {
   "cell_type": "markdown",
   "metadata": {
    "jp-MarkdownHeadingCollapsed": true
   },
   "source": [
    "#### Extract HLM data"
   ]
  },
  {
   "cell_type": "code",
   "execution_count": null,
   "metadata": {},
   "outputs": [],
   "source": [
    "def fetch_metabolic_assays(limit=1000):\n",
    "    url = f\"https://www.ebi.ac.uk/chembl/api/data/assay.json?assay_type=ADME&limit={limit}\"\n",
    "    assays = []\n",
    "    while url:\n",
    "        res = requests.get(url)\n",
    "        res.raise_for_status()\n",
    "        data = res.json()\n",
    "        for a in data[\"assays\"]:\n",
    "            if \"metabolic\" in (a.get(\"description\") or \"\").lower():\n",
    "                assays.append(a[\"assay_chembl_id\"])\n",
    "        url = data[\"page_meta\"][\"next\"]\n",
    "    return assays\n",
    "\n",
    "def fetch_activities_for_assays(assay_ids, limit=1000):\n",
    "    activities = []\n",
    "    for assay_id in assay_ids:\n",
    "        url = f\"https://www.ebi.ac.uk/chembl/api/data/activity.json?assay_chembl_id={assay_id}&limit={limit}\"\n",
    "        while url:\n",
    "            res = requests.get(url)\n",
    "            res.raise_for_status()\n",
    "            data = res.json()\n",
    "            activities.extend(data[\"activities\"])\n",
    "            url = data[\"page_meta\"][\"next\"]\n",
    "    return activities"
   ]
  },
  {
   "cell_type": "code",
   "execution_count": null,
   "metadata": {},
   "outputs": [],
   "source": [
    "assay_ids = fetch_metabolic_assays()\n",
    "print(f\"Found {len(assay_ids)} assays likely related to metabolic stability.\")\n",
    "\n",
    "activities = fetch_activities_for_assays(assay_ids[:5])  # You can increase the slice\n",
    "print(f\"Retrieved {len(activities)} activity records.\")"
   ]
  },
  {
   "cell_type": "markdown",
   "metadata": {
    "jp-MarkdownHeadingCollapsed": true
   },
   "source": [
    "#### Get molecules w/ logP"
   ]
  },
  {
   "cell_type": "code",
   "execution_count": null,
   "metadata": {},
   "outputs": [],
   "source": [
    "def fetch_molecules_with_logp_and_docs(limit=100, max_pages=None, verbose=True):\n",
    "    url = f\"{base_url}/chembl/api/data/molecule.json?logp__isnull=false&molecule_documents__isnull=false&limit={limit}\"\n",
    "    molecules = []\n",
    "    page = 0\n",
    "    \n",
    "    while url and (max_pages is None or page < max_pages):\n",
    "        if verbose:\n",
    "            print(f\"Fetching page {page + 1}...\")\n",
    "        res = requests.get(url)\n",
    "        res.raise_for_status()\n",
    "        data = res.json()\n",
    "        molecules.extend(data['molecules'])\n",
    "\n",
    "        next_url = data['page_meta']['next']\n",
    "        url = f\"{base_url}{next_url}\" if next_url else None\n",
    "        page += 1\n",
    "\n",
    "    return molecules"
   ]
  },
  {
   "cell_type": "code",
   "execution_count": null,
   "metadata": {},
   "outputs": [],
   "source": [
    "molecules = fetch_molecules_with_logp_and_docs(limit=50, max_pages=1)\n",
    "\n",
    "with open(\"../data/raw/chembl_logP_molecules.json\", \"w\") as f:\n",
    "    json.dump(molecules, f, indent=2)\n",
    "\n",
    "print(f\"Fetched {len(molecules)} molecules with logP.\")"
   ]
  },
  {
   "cell_type": "code",
   "execution_count": null,
   "metadata": {},
   "outputs": [],
   "source": [
    "df = pd.DataFrame(molecules)\n",
    "df.columns"
   ]
  },
  {
   "cell_type": "code",
   "execution_count": null,
   "metadata": {},
   "outputs": [],
   "source": [
    "df = df[['molecule_structures', 'molecule_chembl_id', 'molecule_properties']]\n",
    "df.head(2)"
   ]
  },
  {
   "cell_type": "code",
   "execution_count": null,
   "metadata": {},
   "outputs": [],
   "source": [
    "# Test API with a known molecule Chembl ID\n",
    "chembl_id = \"CHEMBL6329\"\n",
    "url = f\"https://www.ebi.ac.uk/chembl/api/data/document.json?molecule_chembl_id={chembl_id}\"\n",
    "res = requests.get(url)\n",
    "res.raise_for_status()\n",
    "data = res.json()\n",
    "documents = data.get(\"documents\", [])\n",
    "df = pd.DataFrame(documents)\n",
    "df.head(1)"
   ]
  },
  {
   "cell_type": "code",
   "execution_count": null,
   "metadata": {
    "scrolled": true
   },
   "outputs": [],
   "source": [
    "# Get all activities in CHemBL \n",
    "url = \"https://www.ebi.ac.uk/chembl/api/data/activity.json?limit=1000\"\n",
    "res = requests.get(url)\n",
    "res.raise_for_status()\n",
    "data = res.json()\n",
    "\n",
    "types = {a[\"standard_type\"] for a in data[\"activities\"] if a.get(\"standard_type\")}\n",
    "types = sorted(types)\n",
    "for t in types:\n",
    "    print(t)"
   ]
  },
  {
   "cell_type": "markdown",
   "metadata": {
    "jp-MarkdownHeadingCollapsed": true
   },
   "source": [
    "#### Get document_id for subset"
   ]
  },
  {
   "cell_type": "code",
   "execution_count": null,
   "metadata": {},
   "outputs": [],
   "source": [
    "# Function to fetch documents associated with a molecule\n",
    "def get_documents_for_molecule(chembl_id):\n",
    "    url = f\"https://www.ebi.ac.uk/chembl/api/data/document.json?molecule_chembl_id={chembl_id}\"\n",
    "    res = requests.get(url)\n",
    "    res.raise_for_status()\n",
    "    return res.json().get(\"documents\", [])"
   ]
  },
  {
   "cell_type": "code",
   "execution_count": null,
   "metadata": {},
   "outputs": [],
   "source": [
    "chembl_id = \"CHEMBL25\"\n",
    "documents = get_documents_for_molecule(chembl_id)\n",
    "documents"
   ]
  },
  {
   "cell_type": "code",
   "execution_count": null,
   "metadata": {},
   "outputs": [],
   "source": [
    "# Add document IDs to each molecule\n",
    "def fetch_documents_for_molecules(molecules):\n",
    "    doc_map = {}\n",
    "    for mol in molecules:\n",
    "        chembl_id = mol.get(\"molecule_chembl_id\")\n",
    "        if chembl_id:\n",
    "            docs = get_documents_for_molecule(chembl_id)\n",
    "            doc_ids = [d[\"document_chembl_id\"] for d in docs]\n",
    "            doc_map[chembl_id] = doc_ids\n",
    "    return doc_map"
   ]
  },
  {
   "cell_type": "code",
   "execution_count": null,
   "metadata": {},
   "outputs": [],
   "source": [
    "doc_map = fetch_documents_for_molecules(molecules)"
   ]
  },
  {
   "cell_type": "code",
   "execution_count": null,
   "metadata": {},
   "outputs": [],
   "source": [
    "doc_map"
   ]
  },
  {
   "cell_type": "code",
   "execution_count": null,
   "metadata": {},
   "outputs": [],
   "source": [
    "df = pd.DataFrame(molecules)"
   ]
  },
  {
   "cell_type": "code",
   "execution_count": null,
   "metadata": {},
   "outputs": [],
   "source": [
    "df[\"logP\"] = df[\"molecule_properties\"].apply(\n",
    "    lambda x: x.get(\"alogp\") if isinstance(x, dict) else None\n",
    ")"
   ]
  },
  {
   "cell_type": "code",
   "execution_count": null,
   "metadata": {},
   "outputs": [],
   "source": [
    "df[\"document_ids\"] = df[\"molecule_chembl_id\"].map(doc_map)\n",
    "\n",
    "# Show merged DataFrame\n",
    "df_merged = df[[\"molecule_chembl_id\", \"logP\", \"document_ids\"]]\n",
    "print(df_merged.head())"
   ]
  },
  {
   "cell_type": "markdown",
   "metadata": {
    "jp-MarkdownHeadingCollapsed": true
   },
   "source": [
    "#### Get molecules from document_id"
   ]
  },
  {
   "cell_type": "code",
   "execution_count": null,
   "metadata": {},
   "outputs": [],
   "source": [
    "def get_molecules_for_document(document_id):\n",
    "    url = f\"https://www.ebi.ac.uk/chembl/api/data/molecule_document.json?document_chembl_id={document_id}\"\n",
    "    res = requests.get(url)\n",
    "    res.raise_for_status()\n",
    "    return res.json().get(\"molecule_documents\", [])"
   ]
  },
  {
   "cell_type": "code",
   "execution_count": null,
   "metadata": {},
   "outputs": [],
   "source": [
    "# Example: Get molecules associated with a document\n",
    "document_id = \"CHEMBL1158643\"\n",
    "molecule_docs = get_molecules_for_document(document_id)\n",
    "\n",
    "# Print out the molecule ChEMBL IDs\n",
    "molecule_ids = [doc[\"molecule_chembl_id\"] for doc in molecule_docs]\n",
    "print(f\"Molecule ChEMBL IDs for document {document_id}: {molecule_ids}\")"
   ]
  },
  {
   "cell_type": "code",
   "execution_count": null,
   "metadata": {},
   "outputs": [],
   "source": [
    "def fetch_molecules_with_logp_and_patents(limit=100, max_pages=None, verbose=True):\n",
    "    base_url = \"https://www.ebi.ac.uk\"\n",
    "    url = f\"{base_url}/chembl/api/data/molecule.json?logp__isnull=false&molecule_patents__isnull=false&limit={limit}\"\n",
    "    molecules = []\n",
    "    page = 0\n",
    "\n",
    "    while url and (max_pages is None or page < max_pages):\n",
    "        if verbose:\n",
    "            print(f\"Fetching page {page + 1}...\")\n",
    "        res = requests.get(url)\n",
    "        res.raise_for_status()\n",
    "        data = res.json()\n",
    "        molecules.extend(data['molecules'])\n",
    "\n",
    "        next_url = data['page_meta'].get('next')\n",
    "        url = f\"{base_url}{next_url}\" if next_url else None\n",
    "        page += 1\n",
    "\n",
    "    return molecules\n",
    "\n",
    "def fetch_molecules_with_logp_smiles_and_patents(limit=100, max_pages=None, verbose=True):\n",
    "    base_url = \"https://www.ebi.ac.uk\"\n",
    "    url = f\"{base_url}/chembl/api/data/molecule.json?logp__isnull=false&molecule_patents__isnull=false&limit={limit}\"\n",
    "    molecules = []\n",
    "    page = 0\n",
    "\n",
    "    while url and (max_pages is None or page < max_pages):\n",
    "        if verbose:\n",
    "            print(f\"Fetching page {page + 1}...\")\n",
    "        res = requests.get(url)\n",
    "        res.raise_for_status()\n",
    "        data = res.json()\n",
    "        molecules.extend(data['molecules'])\n",
    "\n",
    "        next_url = data['page_meta'].get('next')\n",
    "        url = f\"{base_url}{next_url}\" if next_url else None\n",
    "        page += 1\n",
    "\n",
    "    # Fetch SMILES and Patent IDs for each molecule\n",
    "    molecules_with_smiles_and_patents = []\n",
    "    for molecule in molecules:\n",
    "        patent_ids = []\n",
    "        smiles = None\n",
    "        \n",
    "        # Get SMILES from molecule_structures\n",
    "        if 'molecule_structures' in molecule:\n",
    "            smiles = molecule['molecule_structures'].get('canonical_smiles', None)\n",
    "        \n",
    "        # Get patent IDs from molecule_patents\n",
    "        if 'molecule_patents' in molecule:\n",
    "            patent_ids = [patent['patent_chembl_id'] for patent in molecule['molecule_patents']]\n",
    "        \n",
    "        # Add SMILES and patent IDs to molecule data\n",
    "        molecule['smiles'] = smiles\n",
    "        molecule['patent_ids'] = patent_ids\n",
    "        molecules_with_smiles_and_patents.append(molecule)\n",
    "\n",
    "    return molecules_with_smiles_and_patents"
   ]
  },
  {
   "cell_type": "code",
   "execution_count": null,
   "metadata": {},
   "outputs": [],
   "source": []
  }
 ],
 "metadata": {
  "kernelspec": {
   "display_name": "Python 3 (ipykernel)",
   "language": "python",
   "name": "python3"
  },
  "language_info": {
   "codemirror_mode": {
    "name": "ipython",
    "version": 3
   },
   "file_extension": ".py",
   "mimetype": "text/x-python",
   "name": "python",
   "nbconvert_exporter": "python",
   "pygments_lexer": "ipython3",
   "version": "3.11.13"
  }
 },
 "nbformat": 4,
 "nbformat_minor": 4
}
