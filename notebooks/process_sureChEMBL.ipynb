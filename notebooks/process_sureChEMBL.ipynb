{
 "cells": [
  {
   "cell_type": "code",
   "execution_count": 2,
   "id": "ad776c65-ddec-434a-93b9-fc4a41aad46b",
   "metadata": {},
   "outputs": [],
   "source": [
    "import requests\n",
    "import pandas as pd\n",
    "import json\n",
    "import os\n",
    "from pyspark.sql import SparkSession\n",
    "from pyspark.sql.functions import col, decode"
   ]
  },
  {
   "cell_type": "code",
   "execution_count": null,
   "id": "9ca12f74-891d-45e0-b5dd-92b344cde963",
   "metadata": {},
   "outputs": [],
   "source": [
    "# Start Spark session\n",
    "spark = SparkSession.builder \\\n",
    "    .appName(\"Explore SureChemBL\") \\\n",
    "    .getOrCreate()\n",
    "\n",
    "# Load Data\n",
    "df_mol = spark.read.parquet(\"../data/lake/compounds.parquet\")\n",
    "df_patent = spark.read.parquet(\"../data/lake/patent_compound_map.parquet\")\n",
    "df_fields = spark.read.parquet(\"../data/lake/fields.parquet\")\n",
    "df_map = spark.read.parquet(\"../data/lake/patent_compound_map.parquet\")"
   ]
  },
  {
   "cell_type": "code",
   "execution_count": 17,
   "id": "9a43a472-2359-4286-b301-d1720ac36d35",
   "metadata": {
    "scrolled": true
   },
   "outputs": [],
   "source": [
    "df = df_map\n",
    "df = df.join(df_mol, df.compound_id == df_mol.id, \"left\")\n",
    "df = df.join(df_fields, df.field_id == df_fields.id, \"left\")\n",
    "df = df.withColumn(\"smiles\", decode(col(\"rdk_smiles\"), \"UTF-8\"))"
   ]
  },
  {
   "cell_type": "code",
   "execution_count": 19,
   "id": "2d31b78c-0702-4c7d-8839-0d41897e66c7",
   "metadata": {},
   "outputs": [
    {
     "name": "stderr",
     "output_type": "stream",
     "text": [
      "[Stage 15:>                                                         (0 + 1) / 1]"
     ]
    },
    {
     "name": "stdout",
     "output_type": "stream",
     "text": [
      "+-------------+----------+---------+\n",
      "|smiles       |mol_weight|fieldname|\n",
      "+-------------+----------+---------+\n",
      "|O=C(O)O.[NaH]|85.0145   |desc     |\n",
      "|O=C(O)O.[NaH]|85.0145   |desc     |\n",
      "|O=C(O)O.[NaH]|85.0145   |desc     |\n",
      "|O=C(O)O.[NaH]|85.0145   |desc     |\n",
      "|O=C(O)O.[NaH]|85.0145   |desc     |\n",
      "|O=C(O)O.[NaH]|85.0145   |desc     |\n",
      "|O=C(O)O.[NaH]|85.0145   |desc     |\n",
      "|O=C(O)O.[NaH]|85.0145   |desc     |\n",
      "|O=C(O)O.[NaH]|85.0145   |desc     |\n",
      "|O=C(O)O.[NaH]|85.0145   |desc     |\n",
      "+-------------+----------+---------+\n",
      "only showing top 10 rows\n",
      "\n"
     ]
    },
    {
     "name": "stderr",
     "output_type": "stream",
     "text": [
      "                                                                                "
     ]
    }
   ],
   "source": [
    "df.filter(col(\"fieldname\") == \"desc\").select(\"smiles\", \"mol_weight\", \"fieldname\").show(10, truncate=False)\n"
   ]
  },
  {
   "cell_type": "code",
   "execution_count": 20,
   "id": "465f7f23-354c-448e-9562-2ee0463b1f43",
   "metadata": {},
   "outputs": [
    {
     "name": "stdout",
     "output_type": "stream",
     "text": [
      "+---+---------+\n",
      "|id |fieldname|\n",
      "+---+---------+\n",
      "|1  |desc     |\n",
      "|2  |clms     |\n",
      "|3  |abst     |\n",
      "|4  |ttl      |\n",
      "|5  |image    |\n",
      "+---+---------+\n",
      "only showing top 5 rows\n",
      "\n"
     ]
    }
   ],
   "source": [
    "df_fields.show(5, truncate=False)"
   ]
  },
  {
   "cell_type": "code",
   "execution_count": 21,
   "id": "a749b348-b317-4951-acbc-29996f926eb7",
   "metadata": {},
   "outputs": [
    {
     "name": "stdout",
     "output_type": "stream",
     "text": [
      "+---------+-----------+--------+\n",
      "|patent_id|compound_id|field_id|\n",
      "+---------+-----------+--------+\n",
      "|1        |1          |1       |\n",
      "|1        |2          |1       |\n",
      "|1        |3          |1       |\n",
      "|1        |4          |1       |\n",
      "|1        |5          |1       |\n",
      "+---------+-----------+--------+\n",
      "only showing top 5 rows\n",
      "\n"
     ]
    }
   ],
   "source": [
    "df_patent.show(5, truncate=False)"
   ]
  },
  {
   "cell_type": "code",
   "execution_count": 15,
   "id": "badcd10c-c2d2-4186-bfc5-9818b16449c9",
   "metadata": {},
   "outputs": [
    {
     "name": "stdout",
     "output_type": "stream",
     "text": [
      "+---+--------------------------------+----------+\n",
      "|id |smiles                          |mol_weight|\n",
      "+---+--------------------------------+----------+\n",
      "|1  |Cc1ccccc1                       |92.1384   |\n",
      "|2  |NC(=O)O                         |61.04     |\n",
      "|3  |OCCO                            |62.0678   |\n",
      "|4  |C[C@H](CS)C(=O)N1CCC[C@H]1C(=O)O|217.285   |\n",
      "|5  |CN(C)C=O                        |73.0938   |\n",
      "+---+--------------------------------+----------+\n",
      "only showing top 5 rows\n",
      "\n"
     ]
    }
   ],
   "source": [
    "df_with_smiles = df.withColumn(\"smiles\", decode(col(\"rdk_smiles\"), \"UTF-8\"))\n",
    "df_with_smiles.select(\"id\", \"smiles\", \"mol_weight\").show(5, truncate=False)"
   ]
  },
  {
   "cell_type": "code",
   "execution_count": 12,
   "id": "b5e5d643-e794-43d3-b5b5-6d5f579ec88f",
   "metadata": {},
   "outputs": [
    {
     "data": {
      "text/plain": [
       "Column<'rdk_smiles'>"
      ]
     },
     "execution_count": 12,
     "metadata": {},
     "output_type": "execute_result"
    }
   ],
   "source": [
    "df['rdk_smiles']"
   ]
  },
  {
   "cell_type": "code",
   "execution_count": null,
   "id": "49195223-032a-4cce-8b4c-2e9f84e3010c",
   "metadata": {},
   "outputs": [],
   "source": []
  }
 ],
 "metadata": {
  "kernelspec": {
   "display_name": "Python 3 (ipykernel)",
   "language": "python",
   "name": "python3"
  },
  "language_info": {
   "codemirror_mode": {
    "name": "ipython",
    "version": 3
   },
   "file_extension": ".py",
   "mimetype": "text/x-python",
   "name": "python",
   "nbconvert_exporter": "python",
   "pygments_lexer": "ipython3",
   "version": "3.10.17"
  }
 },
 "nbformat": 4,
 "nbformat_minor": 5
}
